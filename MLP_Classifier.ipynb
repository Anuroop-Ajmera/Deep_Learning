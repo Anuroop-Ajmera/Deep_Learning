{
 "cells": [
  {
   "cell_type": "markdown",
   "metadata": {},
   "source": [
    "Create an MLP classifier with 3 hidden layers of sizes 5, 10, 5."
   ]
  },
  {
   "cell_type": "code",
   "execution_count": 35,
   "metadata": {},
   "outputs": [],
   "source": [
    "import torch\n",
    "import torch.nn as nn\n",
    "import torch.nn.functional as nnF\n",
    "import pandas as pd\n",
    "import numpy as np\n",
    "import matplotlib.pyplot as plt\n",
    "from sklearn.model_selection import train_test_split"
   ]
  },
  {
   "cell_type": "code",
   "execution_count": 36,
   "metadata": {},
   "outputs": [],
   "source": [
    "train = pd.read_csv(\"./Dataset/iris_training.csv\", header=None)"
   ]
  },
  {
   "cell_type": "code",
   "execution_count": 37,
   "metadata": {},
   "outputs": [],
   "source": [
    "train.columns = ['sepal_length','sepal_width','petal_length','petal_width','class']"
   ]
  },
  {
   "cell_type": "code",
   "execution_count": 38,
   "metadata": {},
   "outputs": [
    {
     "data": {
      "text/html": [
       "<div>\n",
       "<style scoped>\n",
       "    .dataframe tbody tr th:only-of-type {\n",
       "        vertical-align: middle;\n",
       "    }\n",
       "\n",
       "    .dataframe tbody tr th {\n",
       "        vertical-align: top;\n",
       "    }\n",
       "\n",
       "    .dataframe thead th {\n",
       "        text-align: right;\n",
       "    }\n",
       "</style>\n",
       "<table border=\"1\" class=\"dataframe\">\n",
       "  <thead>\n",
       "    <tr style=\"text-align: right;\">\n",
       "      <th></th>\n",
       "      <th>sepal_length</th>\n",
       "      <th>sepal_width</th>\n",
       "      <th>petal_length</th>\n",
       "      <th>petal_width</th>\n",
       "      <th>class</th>\n",
       "    </tr>\n",
       "  </thead>\n",
       "  <tbody>\n",
       "    <tr>\n",
       "      <th>0</th>\n",
       "      <td>6.4</td>\n",
       "      <td>2.8</td>\n",
       "      <td>5.6</td>\n",
       "      <td>2.2</td>\n",
       "      <td>2</td>\n",
       "    </tr>\n",
       "    <tr>\n",
       "      <th>1</th>\n",
       "      <td>5.0</td>\n",
       "      <td>2.3</td>\n",
       "      <td>3.3</td>\n",
       "      <td>1.0</td>\n",
       "      <td>1</td>\n",
       "    </tr>\n",
       "    <tr>\n",
       "      <th>2</th>\n",
       "      <td>4.9</td>\n",
       "      <td>2.5</td>\n",
       "      <td>4.5</td>\n",
       "      <td>1.7</td>\n",
       "      <td>2</td>\n",
       "    </tr>\n",
       "    <tr>\n",
       "      <th>3</th>\n",
       "      <td>4.9</td>\n",
       "      <td>3.1</td>\n",
       "      <td>1.5</td>\n",
       "      <td>0.1</td>\n",
       "      <td>0</td>\n",
       "    </tr>\n",
       "    <tr>\n",
       "      <th>4</th>\n",
       "      <td>5.7</td>\n",
       "      <td>3.8</td>\n",
       "      <td>1.7</td>\n",
       "      <td>0.3</td>\n",
       "      <td>0</td>\n",
       "    </tr>\n",
       "  </tbody>\n",
       "</table>\n",
       "</div>"
      ],
      "text/plain": [
       "   sepal_length  sepal_width  petal_length  petal_width  class\n",
       "0           6.4          2.8           5.6          2.2      2\n",
       "1           5.0          2.3           3.3          1.0      1\n",
       "2           4.9          2.5           4.5          1.7      2\n",
       "3           4.9          3.1           1.5          0.1      0\n",
       "4           5.7          3.8           1.7          0.3      0"
      ]
     },
     "execution_count": 38,
     "metadata": {},
     "output_type": "execute_result"
    }
   ],
   "source": [
    "train.head(5)"
   ]
  },
  {
   "cell_type": "code",
   "execution_count": 39,
   "metadata": {},
   "outputs": [],
   "source": [
    "test = pd.read_csv(\"./Dataset/iris_test.csv\", header=None)"
   ]
  },
  {
   "cell_type": "code",
   "execution_count": 40,
   "metadata": {},
   "outputs": [],
   "source": [
    "test.columns = ['sepal_length','sepal_width','petal_length','petal_width','class']"
   ]
  },
  {
   "cell_type": "code",
   "execution_count": 41,
   "metadata": {},
   "outputs": [
    {
     "data": {
      "text/html": [
       "<div>\n",
       "<style scoped>\n",
       "    .dataframe tbody tr th:only-of-type {\n",
       "        vertical-align: middle;\n",
       "    }\n",
       "\n",
       "    .dataframe tbody tr th {\n",
       "        vertical-align: top;\n",
       "    }\n",
       "\n",
       "    .dataframe thead th {\n",
       "        text-align: right;\n",
       "    }\n",
       "</style>\n",
       "<table border=\"1\" class=\"dataframe\">\n",
       "  <thead>\n",
       "    <tr style=\"text-align: right;\">\n",
       "      <th></th>\n",
       "      <th>sepal_length</th>\n",
       "      <th>sepal_width</th>\n",
       "      <th>petal_length</th>\n",
       "      <th>petal_width</th>\n",
       "      <th>class</th>\n",
       "    </tr>\n",
       "  </thead>\n",
       "  <tbody>\n",
       "    <tr>\n",
       "      <th>0</th>\n",
       "      <td>5.9</td>\n",
       "      <td>3.0</td>\n",
       "      <td>4.2</td>\n",
       "      <td>1.5</td>\n",
       "      <td>1</td>\n",
       "    </tr>\n",
       "    <tr>\n",
       "      <th>1</th>\n",
       "      <td>6.9</td>\n",
       "      <td>3.1</td>\n",
       "      <td>5.4</td>\n",
       "      <td>2.1</td>\n",
       "      <td>2</td>\n",
       "    </tr>\n",
       "    <tr>\n",
       "      <th>2</th>\n",
       "      <td>5.1</td>\n",
       "      <td>3.3</td>\n",
       "      <td>1.7</td>\n",
       "      <td>0.5</td>\n",
       "      <td>0</td>\n",
       "    </tr>\n",
       "    <tr>\n",
       "      <th>3</th>\n",
       "      <td>6.0</td>\n",
       "      <td>3.4</td>\n",
       "      <td>4.5</td>\n",
       "      <td>1.6</td>\n",
       "      <td>1</td>\n",
       "    </tr>\n",
       "    <tr>\n",
       "      <th>4</th>\n",
       "      <td>5.5</td>\n",
       "      <td>2.5</td>\n",
       "      <td>4.0</td>\n",
       "      <td>1.3</td>\n",
       "      <td>1</td>\n",
       "    </tr>\n",
       "  </tbody>\n",
       "</table>\n",
       "</div>"
      ],
      "text/plain": [
       "   sepal_length  sepal_width  petal_length  petal_width  class\n",
       "0           5.9          3.0           4.2          1.5      1\n",
       "1           6.9          3.1           5.4          2.1      2\n",
       "2           5.1          3.3           1.7          0.5      0\n",
       "3           6.0          3.4           4.5          1.6      1\n",
       "4           5.5          2.5           4.0          1.3      1"
      ]
     },
     "execution_count": 41,
     "metadata": {},
     "output_type": "execute_result"
    }
   ],
   "source": [
    "test.head(5)"
   ]
  },
  {
   "cell_type": "code",
   "execution_count": 42,
   "metadata": {},
   "outputs": [],
   "source": [
    "X_train = train.drop('class', axis=1).values\n",
    "y_train = train['class'].values\n",
    "#X_train"
   ]
  },
  {
   "cell_type": "code",
   "execution_count": 43,
   "metadata": {},
   "outputs": [],
   "source": [
    "#y_train"
   ]
  },
  {
   "cell_type": "code",
   "execution_count": 44,
   "metadata": {},
   "outputs": [],
   "source": [
    "X_test = test.drop('class', axis=1).values\n",
    "y_test = test['class'].values\n",
    "#X_test"
   ]
  },
  {
   "cell_type": "code",
   "execution_count": 45,
   "metadata": {},
   "outputs": [],
   "source": [
    "#y_test"
   ]
  },
  {
   "cell_type": "code",
   "execution_count": 46,
   "metadata": {},
   "outputs": [],
   "source": [
    "X_train = torch.FloatTensor(X_train)\n",
    "X_test = torch.FloatTensor(X_test)\n",
    "y_train = torch.LongTensor(y_train)\n",
    "y_test = torch.LongTensor(y_test)"
   ]
  },
  {
   "cell_type": "code",
   "execution_count": 61,
   "metadata": {},
   "outputs": [],
   "source": [
    "class myNet(nn.Module):\n",
    "   def __init__(self):\n",
    "       super().__init__()\n",
    "       self.fc1 = nn.Linear(in_features=4, out_features=5)\n",
    "       self.fc2 = nn.Linear(in_features=5, out_features=10)\n",
    "       self.fc3 = nn.Linear(in_features=10, out_features=5)\n",
    "       self.output = nn.Linear(in_features=5, out_features=3)\n",
    " \n",
    "   def forward(self, x):\n",
    "     x = nnF.relu(self.fc1(x))\n",
    "     x = nnF.relu(self.fc2(x))\n",
    "     x = nnF.relu(self.fc3(x))\n",
    "     x = self.output(x)\n",
    "     return x"
   ]
  },
  {
   "cell_type": "code",
   "execution_count": 62,
   "metadata": {},
   "outputs": [
    {
     "data": {
      "text/plain": [
       "myNet(\n",
       "  (fc1): Linear(in_features=4, out_features=5, bias=True)\n",
       "  (fc2): Linear(in_features=5, out_features=10, bias=True)\n",
       "  (fc3): Linear(in_features=10, out_features=5, bias=True)\n",
       "  (output): Linear(in_features=5, out_features=3, bias=True)\n",
       ")"
      ]
     },
     "execution_count": 62,
     "metadata": {},
     "output_type": "execute_result"
    }
   ],
   "source": [
    "model = myNet()\n",
    "model"
   ]
  },
  {
   "cell_type": "code",
   "execution_count": 63,
   "metadata": {},
   "outputs": [
    {
     "name": "stdout",
     "output_type": "stream",
     "text": [
      "CrossEntropyLoss() SGD (\n",
      "Parameter Group 0\n",
      "    dampening: 0\n",
      "    lr: 0.05\n",
      "    momentum: 0\n",
      "    nesterov: False\n",
      "    weight_decay: 0\n",
      ")\n"
     ]
    }
   ],
   "source": [
    "# Loss funciton\n",
    "criterion = nn.CrossEntropyLoss()\n",
    "\n",
    "# Optimizer\n",
    "#optimizer = torch.optim.Adam(model.parameters(), lr=0.01)\n",
    "optimizer = torch.optim.SGD(model.parameters(), lr=0.05)\n",
    "\n",
    "print(criterion, optimizer)"
   ]
  },
  {
   "cell_type": "code",
   "execution_count": 64,
   "metadata": {},
   "outputs": [],
   "source": [
    "# epochs = 1000\n",
    "# train_loss_arr = []\n",
    "# for i in range(epochs):\n",
    "#    optimizer.zero_grad()\n",
    "#    y_hat = model.forward(X_train)\n",
    "#    loss = criterion(y_hat, y_train)\n",
    "#    train_loss_arr.append(loss)\n",
    " \n",
    "#    if i % 50 == 0:\n",
    "#        print(f'Epoch: {i}, Loss: {loss}')\n",
    " \n",
    "   \n",
    "#    loss.backward()\n",
    "#    optimizer.step()"
   ]
  },
  {
   "cell_type": "code",
   "execution_count": 65,
   "metadata": {},
   "outputs": [],
   "source": [
    "# prediction = []\n",
    "# with torch.no_grad():\n",
    "#    for val in X_test:\n",
    "#        y_hat = model.forward(val)\n",
    "#        prediction.append(y_hat.argmax().item())"
   ]
  },
  {
   "cell_type": "code",
   "execution_count": 66,
   "metadata": {},
   "outputs": [],
   "source": [
    "# df = pd.DataFrame({'Y': y_test, 'YHat': prediction})\n",
    "# df['Correct'] = [1 if corr == pred else 0 for corr, pred in zip(df['Y'], df['YHat'])]"
   ]
  },
  {
   "cell_type": "code",
   "execution_count": 67,
   "metadata": {},
   "outputs": [],
   "source": [
    "#df.head()"
   ]
  },
  {
   "cell_type": "code",
   "execution_count": 68,
   "metadata": {},
   "outputs": [],
   "source": [
    "#df['Correct'].sum() / len(df)"
   ]
  },
  {
   "cell_type": "code",
   "execution_count": 69,
   "metadata": {},
   "outputs": [],
   "source": [
    "# Correct0 = Correct1 = Correct2 = 0\n",
    "# Y0=Y1=Y2 = 0\n",
    "# for i in range(len(df)):\n",
    "#     if(df['Y'][i] == 0):\n",
    "#         Y0 += 1\n",
    "#         Correct0 += df['Correct'][i]\n",
    "#     elif(df['Y'][i] == 1):\n",
    "#         Y1 += 1\n",
    "#         Correct1 += df['Correct'][i]\n",
    "#     else:\n",
    "#         Y2 += 1\n",
    "#         Correct2 += df['Correct'][i]\n",
    "        \n",
    "# print(\"Accuracy for Class 0: \", 100 * round(Correct0/Y0,5),\"%\", \"(\",Correct0,\"/\",Y0,\")\")\n",
    "\n",
    "# print(\"Accuracy for Class 1: \", 100 * round(Correct1/Y1,5), \"%\", \"(\",Correct1,\"/\",Y1,\")\")\n",
    "\n",
    "# print(\"Accuracy for Class 2: \", 100 * round(Correct2/Y2,5), \"%\", \"(\",Correct2,\"/\",Y2,\")\")\n",
    "\n",
    "# print(\"Overall Accuracy: \", 100 * round(df['Correct'].sum() / len(df),5), \"%\", \"(\",df['Correct'].sum(),\"/\",len(df),\")\")\n"
   ]
  },
  {
   "cell_type": "code",
   "execution_count": 70,
   "metadata": {},
   "outputs": [
    {
     "name": "stdout",
     "output_type": "stream",
     "text": [
      "\n",
      "#################################################\n",
      "\n",
      "Running for Iteration: 1\n",
      "Epoch: 0, Loss: 1.2143324613571167\n",
      "Epoch: 500, Loss: 0.2009407877922058\n",
      "Epoch: 1000, Loss: 0.07190907001495361\n",
      "Epoch: 1500, Loss: 0.0551418699324131\n",
      "Epoch: 2000, Loss: 0.0489131361246109\n",
      "Epoch: 2500, Loss: 0.04467739909887314\n",
      "Epoch: 3000, Loss: 0.05449547618627548\n",
      "Epoch: 3500, Loss: 0.05525318160653114\n",
      "Epoch: 4000, Loss: 0.04782532528042793\n",
      "Epoch: 4500, Loss: 0.0518731065094471\n",
      "Epoch: 5000, Loss: 0.04446860030293465\n",
      "Epoch: 5500, Loss: 0.041373297572135925\n",
      "Epoch: 6000, Loss: 0.03725052252411842\n",
      "Epoch: 6500, Loss: 0.11652866750955582\n",
      "Epoch: 7000, Loss: 0.03195636346936226\n",
      "Epoch: 7500, Loss: 0.04545437544584274\n",
      "Epoch: 8000, Loss: 0.038459040224552155\n",
      "Epoch: 8500, Loss: 0.02932102233171463\n",
      "Epoch: 9000, Loss: 0.03984099254012108\n",
      "Epoch: 9500, Loss: 0.02888490818440914\n",
      "Accuracy for Class 0:  100.0 % ( 8 / 8 )\n",
      "Accuracy for Class 1:  100.0 % ( 14 / 14 )\n",
      "Accuracy for Class 2:  87.5 % ( 7 / 8 )\n",
      "Overall Accuracy:  96.667 % ( 29 / 30 )\n",
      "\n",
      "#################################################\n",
      "\n",
      "Running for Iteration: 2\n",
      "Epoch: 0, Loss: 0.03123977966606617\n",
      "Epoch: 500, Loss: 0.027667351067066193\n",
      "Epoch: 1000, Loss: 0.037242308259010315\n",
      "Epoch: 1500, Loss: 0.02795833721756935\n",
      "Epoch: 2000, Loss: 0.03326858952641487\n",
      "Epoch: 2500, Loss: 0.0279298834502697\n",
      "Epoch: 3000, Loss: 0.03101847879588604\n",
      "Epoch: 3500, Loss: 0.05385429784655571\n",
      "Epoch: 4000, Loss: 0.041870005428791046\n",
      "Epoch: 4500, Loss: 0.029777495190501213\n",
      "Epoch: 5000, Loss: 0.0276663675904274\n",
      "Epoch: 5500, Loss: 0.03062489442527294\n",
      "Epoch: 6000, Loss: 0.026561854407191277\n",
      "Epoch: 6500, Loss: 0.02512962371110916\n",
      "Epoch: 7000, Loss: 0.036906491965055466\n",
      "Epoch: 7500, Loss: 0.026849035173654556\n",
      "Epoch: 8000, Loss: 0.025541579350829124\n",
      "Epoch: 8500, Loss: 0.038513410836458206\n",
      "Epoch: 9000, Loss: 0.04826987534761429\n",
      "Epoch: 9500, Loss: 0.02624039724469185\n",
      "Accuracy for Class 0:  100.0 % ( 8 / 8 )\n",
      "Accuracy for Class 1:  92.857 % ( 13 / 14 )\n",
      "Accuracy for Class 2:  87.5 % ( 7 / 8 )\n",
      "Overall Accuracy:  93.333 % ( 28 / 30 )\n",
      "\n",
      "#################################################\n",
      "\n",
      "Running for Iteration: 3\n",
      "Epoch: 0, Loss: 0.051692895591259\n",
      "Epoch: 500, Loss: 0.02359621599316597\n",
      "Epoch: 1000, Loss: 0.02304738573729992\n",
      "Epoch: 1500, Loss: 0.023335274308919907\n",
      "Epoch: 2000, Loss: 0.023000089451670647\n",
      "Epoch: 2500, Loss: 0.022632740437984467\n",
      "Epoch: 3000, Loss: 0.022298084571957588\n",
      "Epoch: 3500, Loss: 0.022485196590423584\n",
      "Epoch: 4000, Loss: 0.022049685940146446\n",
      "Epoch: 4500, Loss: 0.021947870030999184\n",
      "Epoch: 5000, Loss: 0.02219647914171219\n",
      "Epoch: 5500, Loss: 0.058697473257780075\n",
      "Epoch: 6000, Loss: 0.0466102734208107\n",
      "Epoch: 6500, Loss: 0.04206143319606781\n",
      "Epoch: 7000, Loss: 0.03969568386673927\n",
      "Epoch: 7500, Loss: 0.038652900606393814\n",
      "Epoch: 8000, Loss: 0.03454248234629631\n",
      "Epoch: 8500, Loss: 0.03694505617022514\n",
      "Epoch: 9000, Loss: 0.03439294546842575\n",
      "Epoch: 9500, Loss: 0.03450201824307442\n",
      "Accuracy for Class 0:  100.0 % ( 8 / 8 )\n",
      "Accuracy for Class 1:  100.0 % ( 14 / 14 )\n",
      "Accuracy for Class 2:  87.5 % ( 7 / 8 )\n",
      "Overall Accuracy:  96.667 % ( 29 / 30 )\n"
     ]
    }
   ],
   "source": [
    "for k in range(3):\n",
    "    print(\"\\n#################################################\")\n",
    "    print(\"\\nRunning for Iteration:\",k+1)\n",
    "    ################################# Training ######################\n",
    "    epochs = 10000\n",
    "    train_loss_arr = []\n",
    "    for i in range(epochs):\n",
    "        optimizer.zero_grad()\n",
    "        y_hat = model.forward(X_train)\n",
    "        loss = criterion(y_hat, y_train)\n",
    "        train_loss_arr.append(loss)\n",
    " \n",
    "        if i % 500 == 0:\n",
    "           print(f'Epoch: {i}, Loss: {loss}')\n",
    " \n",
    "   \n",
    "        loss.backward()\n",
    "        optimizer.step()\n",
    "       \n",
    "    ################################# Testing ######################\n",
    "       \n",
    "    prediction = []\n",
    "    with torch.no_grad():\n",
    "        for val in X_test:\n",
    "            y_hat = model.forward(val)\n",
    "            prediction.append(y_hat.argmax().item())\n",
    "       \n",
    "    df = pd.DataFrame({'Y': y_test, 'YHat': prediction})\n",
    "    df['Correct'] = [1 if corr == pred else 0 for corr, pred in zip(df['Y'], df['YHat'])]\n",
    "       \n",
    "       \n",
    "   ################################## Accuracy Calculation ########\n",
    "       \n",
    "        #YHat1 = len(df[df['YHat'] ==1])\n",
    "    Correct0 = Correct1 = Correct2 = 0\n",
    "    Y0=Y1=Y2 = 0\n",
    "    for i in range(len(df)):\n",
    "        if(df['Y'][i] == 0):\n",
    "            Y0 += 1\n",
    "            Correct0 += df['Correct'][i]\n",
    "        elif(df['Y'][i] == 1):\n",
    "            Y1 += 1\n",
    "            Correct1 += df['Correct'][i]\n",
    "        else:\n",
    "            Y2 += 1\n",
    "            Correct2 += df['Correct'][i]\n",
    "    \n",
    "    print(\"Accuracy for Class 0: \", 100 * round(Correct0/Y0,5),\"%\", \"(\",Correct0,\"/\",Y0,\")\")\n",
    "       \n",
    "    print(\"Accuracy for Class 1: \", 100 * round(Correct1/Y1,5), \"%\", \"(\",Correct1,\"/\",Y1,\")\")\n",
    "      \n",
    "    print(\"Accuracy for Class 2: \", 100 * round(Correct2/Y2,5), \"%\", \"(\",Correct2,\"/\",Y2,\")\")\n",
    "    \n",
    "    print(\"Overall Accuracy: \", 100 * round(df['Correct'].sum() / len(df),5), \"%\", \"(\",df['Correct'].sum(),\"/\",len(df),\")\")"
   ]
  },
  {
   "cell_type": "code",
   "execution_count": null,
   "metadata": {},
   "outputs": [],
   "source": []
  }
 ],
 "metadata": {
  "kernelspec": {
   "display_name": "Python 3",
   "language": "python",
   "name": "python3"
  },
  "language_info": {
   "codemirror_mode": {
    "name": "ipython",
    "version": 3
   },
   "file_extension": ".py",
   "mimetype": "text/x-python",
   "name": "python",
   "nbconvert_exporter": "python",
   "pygments_lexer": "ipython3",
   "version": "3.8.8"
  }
 },
 "nbformat": 4,
 "nbformat_minor": 4
}
