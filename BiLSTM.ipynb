{
 "cells": [
  {
   "cell_type": "markdown",
   "metadata": {},
   "source": [
    "You are given the reviews dataset. These are 194439 amazon reviews for cell phones and accessories taken from https://jmcauley.ucsd.edu/data/amazon/ Use the reviewText and overall fields from this file. Use fastText embeddings as mentioned in tutorial. Create BiLSTM with 1 layer and 100 as hidden layer size. Use dropout=0.1. Use 1 dense hidden layer of size 50 before the final output layer."
   ]
  },
  {
   "cell_type": "code",
   "execution_count": 18,
   "metadata": {
    "scrolled": true
   },
   "outputs": [],
   "source": [
    "import torch\n",
    "import torch.nn as nn\n",
    "import torch.nn.functional as F\n",
    "import torch.optim as optim\n",
    "\n",
    "import os\n",
    "import re\n",
    "import warnings\n",
    "\n",
    "warnings.filterwarnings(\"ignore\")\n",
    "\n",
    "import pandas as pd\n",
    "import numpy as np\n",
    "\n",
    "from gensim.models import KeyedVectors\n",
    "\n",
    "from sklearn.model_selection import StratifiedKFold\n",
    "from sklearn.metrics import roc_auc_score, roc_curve, auc, confusion_matrix\n",
    "\n",
    "%matplotlib inline\n",
    "from matplotlib import pyplot as plt\n",
    "import seaborn as sns"
   ]
  },
  {
   "cell_type": "code",
   "execution_count": 2,
   "metadata": {},
   "outputs": [],
   "source": [
    "\"\"\"Params for training & evaluation\n",
    "dataFileName: TAB separated file having reviews and ratings\n",
    "embeddingDim: Size of Word embeddings. We'll use pretrained FastText Word Embeddings - https://github.com/facebookresearch/MUSE\n",
    "\"\"\"\n",
    "dataFileName = \"./Dataset/reviews/reviews.json\"\n",
    "embeddingDim = 300                                               "
   ]
  },
  {
   "cell_type": "markdown",
   "metadata": {},
   "source": [
    "#### Exploratory Data Analysis"
   ]
  },
  {
   "cell_type": "code",
   "execution_count": 10,
   "metadata": {},
   "outputs": [],
   "source": [
    "import json\n",
    "data = [json.loads(line) for line in open(dataFileName, 'r')]"
   ]
  },
  {
   "cell_type": "code",
   "execution_count": 14,
   "metadata": {},
   "outputs": [
    {
     "data": {
      "text/plain": [
       "{'reviewerID': 'ASY55RVNIL0UD',\n",
       " 'asin': '120401325X',\n",
       " 'reviewerName': 'emily l.',\n",
       " 'helpful': [0, 0],\n",
       " 'reviewText': 'These stickers work like the review says they do. They stick on great and they stay on the phone. They are super stylish and I can share them with my sister. :)',\n",
       " 'overall': 5.0,\n",
       " 'summary': 'Really great product.',\n",
       " 'unixReviewTime': 1389657600,\n",
       " 'reviewTime': '01 14, 2014'}"
      ]
     },
     "execution_count": 14,
     "metadata": {},
     "output_type": "execute_result"
    }
   ],
   "source": [
    "data[1]"
   ]
  },
  {
   "cell_type": "code",
   "execution_count": 15,
   "metadata": {},
   "outputs": [
    {
     "data": {
      "text/plain": [
       "194439"
      ]
     },
     "execution_count": 15,
     "metadata": {},
     "output_type": "execute_result"
    }
   ],
   "source": [
    "len(data)"
   ]
  },
  {
   "cell_type": "code",
   "execution_count": 22,
   "metadata": {},
   "outputs": [
    {
     "data": {
      "text/html": [
       "<div>\n",
       "<style scoped>\n",
       "    .dataframe tbody tr th:only-of-type {\n",
       "        vertical-align: middle;\n",
       "    }\n",
       "\n",
       "    .dataframe tbody tr th {\n",
       "        vertical-align: top;\n",
       "    }\n",
       "\n",
       "    .dataframe thead th {\n",
       "        text-align: right;\n",
       "    }\n",
       "</style>\n",
       "<table border=\"1\" class=\"dataframe\">\n",
       "  <thead>\n",
       "    <tr style=\"text-align: right;\">\n",
       "      <th></th>\n",
       "      <th>reviewerID</th>\n",
       "      <th>asin</th>\n",
       "      <th>reviewerName</th>\n",
       "      <th>helpful</th>\n",
       "      <th>reviewText</th>\n",
       "      <th>overall</th>\n",
       "      <th>summary</th>\n",
       "      <th>unixReviewTime</th>\n",
       "      <th>reviewTime</th>\n",
       "    </tr>\n",
       "  </thead>\n",
       "  <tbody>\n",
       "    <tr>\n",
       "      <th>0</th>\n",
       "      <td>A30TL5EWN6DFXT</td>\n",
       "      <td>120401325X</td>\n",
       "      <td>christina</td>\n",
       "      <td>[0, 0]</td>\n",
       "      <td>They look good and stick good! I just don't li...</td>\n",
       "      <td>4.0</td>\n",
       "      <td>Looks Good</td>\n",
       "      <td>1400630400</td>\n",
       "      <td>05 21, 2014</td>\n",
       "    </tr>\n",
       "    <tr>\n",
       "      <th>1</th>\n",
       "      <td>ASY55RVNIL0UD</td>\n",
       "      <td>120401325X</td>\n",
       "      <td>emily l.</td>\n",
       "      <td>[0, 0]</td>\n",
       "      <td>These stickers work like the review says they ...</td>\n",
       "      <td>5.0</td>\n",
       "      <td>Really great product.</td>\n",
       "      <td>1389657600</td>\n",
       "      <td>01 14, 2014</td>\n",
       "    </tr>\n",
       "    <tr>\n",
       "      <th>2</th>\n",
       "      <td>A2TMXE2AFO7ONB</td>\n",
       "      <td>120401325X</td>\n",
       "      <td>Erica</td>\n",
       "      <td>[0, 0]</td>\n",
       "      <td>These are awesome and make my phone look so st...</td>\n",
       "      <td>5.0</td>\n",
       "      <td>LOVE LOVE LOVE</td>\n",
       "      <td>1403740800</td>\n",
       "      <td>06 26, 2014</td>\n",
       "    </tr>\n",
       "    <tr>\n",
       "      <th>3</th>\n",
       "      <td>AWJ0WZQYMYFQ4</td>\n",
       "      <td>120401325X</td>\n",
       "      <td>JM</td>\n",
       "      <td>[4, 4]</td>\n",
       "      <td>Item arrived in great time and was in perfect ...</td>\n",
       "      <td>4.0</td>\n",
       "      <td>Cute!</td>\n",
       "      <td>1382313600</td>\n",
       "      <td>10 21, 2013</td>\n",
       "    </tr>\n",
       "    <tr>\n",
       "      <th>4</th>\n",
       "      <td>ATX7CZYFXI1KW</td>\n",
       "      <td>120401325X</td>\n",
       "      <td>patrice m rogoza</td>\n",
       "      <td>[2, 3]</td>\n",
       "      <td>awesome! stays on, and looks great. can be use...</td>\n",
       "      <td>5.0</td>\n",
       "      <td>leopard home button sticker for iphone 4s</td>\n",
       "      <td>1359849600</td>\n",
       "      <td>02 3, 2013</td>\n",
       "    </tr>\n",
       "    <tr>\n",
       "      <th>5</th>\n",
       "      <td>APX47D16JOP7H</td>\n",
       "      <td>120401325X</td>\n",
       "      <td>RLH</td>\n",
       "      <td>[1, 2]</td>\n",
       "      <td>These make using the home button easy. My daug...</td>\n",
       "      <td>3.0</td>\n",
       "      <td>Cute</td>\n",
       "      <td>1381536000</td>\n",
       "      <td>10 12, 2013</td>\n",
       "    </tr>\n",
       "    <tr>\n",
       "      <th>6</th>\n",
       "      <td>A1JVVYYO7G56DS</td>\n",
       "      <td>120401325X</td>\n",
       "      <td>Tyler Evans</td>\n",
       "      <td>[0, 0]</td>\n",
       "      <td>Came just as described.. It doesn't come unstu...</td>\n",
       "      <td>5.0</td>\n",
       "      <td>best thing ever..</td>\n",
       "      <td>1377129600</td>\n",
       "      <td>08 22, 2013</td>\n",
       "    </tr>\n",
       "    <tr>\n",
       "      <th>7</th>\n",
       "      <td>A6FGO4TBZ3QFZ</td>\n",
       "      <td>3998899561</td>\n",
       "      <td>Abdullah Albyati</td>\n",
       "      <td>[1, 2]</td>\n",
       "      <td>it worked for the first week then it only char...</td>\n",
       "      <td>1.0</td>\n",
       "      <td>not a good Idea</td>\n",
       "      <td>1384992000</td>\n",
       "      <td>11 21, 2013</td>\n",
       "    </tr>\n",
       "    <tr>\n",
       "      <th>8</th>\n",
       "      <td>A2JWEDW5FSVB0F</td>\n",
       "      <td>3998899561</td>\n",
       "      <td>Adam</td>\n",
       "      <td>[2, 3]</td>\n",
       "      <td>Good case, solid build. Protects phone all aro...</td>\n",
       "      <td>5.0</td>\n",
       "      <td>Solid Case</td>\n",
       "      <td>1380067200</td>\n",
       "      <td>09 25, 2013</td>\n",
       "    </tr>\n",
       "    <tr>\n",
       "      <th>9</th>\n",
       "      <td>A8AJS1DW7L3JJ</td>\n",
       "      <td>3998899561</td>\n",
       "      <td>Agata Majchrzak</td>\n",
       "      <td>[1, 1]</td>\n",
       "      <td>This is a fantastic case. Very stylish and pro...</td>\n",
       "      <td>5.0</td>\n",
       "      <td>Perfect Case</td>\n",
       "      <td>1396483200</td>\n",
       "      <td>04 3, 2014</td>\n",
       "    </tr>\n",
       "  </tbody>\n",
       "</table>\n",
       "</div>"
      ],
      "text/plain": [
       "       reviewerID        asin      reviewerName helpful  \\\n",
       "0  A30TL5EWN6DFXT  120401325X         christina  [0, 0]   \n",
       "1   ASY55RVNIL0UD  120401325X          emily l.  [0, 0]   \n",
       "2  A2TMXE2AFO7ONB  120401325X             Erica  [0, 0]   \n",
       "3   AWJ0WZQYMYFQ4  120401325X                JM  [4, 4]   \n",
       "4   ATX7CZYFXI1KW  120401325X  patrice m rogoza  [2, 3]   \n",
       "5   APX47D16JOP7H  120401325X               RLH  [1, 2]   \n",
       "6  A1JVVYYO7G56DS  120401325X       Tyler Evans  [0, 0]   \n",
       "7   A6FGO4TBZ3QFZ  3998899561  Abdullah Albyati  [1, 2]   \n",
       "8  A2JWEDW5FSVB0F  3998899561              Adam  [2, 3]   \n",
       "9   A8AJS1DW7L3JJ  3998899561   Agata Majchrzak  [1, 1]   \n",
       "\n",
       "                                          reviewText  overall  \\\n",
       "0  They look good and stick good! I just don't li...      4.0   \n",
       "1  These stickers work like the review says they ...      5.0   \n",
       "2  These are awesome and make my phone look so st...      5.0   \n",
       "3  Item arrived in great time and was in perfect ...      4.0   \n",
       "4  awesome! stays on, and looks great. can be use...      5.0   \n",
       "5  These make using the home button easy. My daug...      3.0   \n",
       "6  Came just as described.. It doesn't come unstu...      5.0   \n",
       "7  it worked for the first week then it only char...      1.0   \n",
       "8  Good case, solid build. Protects phone all aro...      5.0   \n",
       "9  This is a fantastic case. Very stylish and pro...      5.0   \n",
       "\n",
       "                                     summary  unixReviewTime   reviewTime  \n",
       "0                                 Looks Good      1400630400  05 21, 2014  \n",
       "1                      Really great product.      1389657600  01 14, 2014  \n",
       "2                             LOVE LOVE LOVE      1403740800  06 26, 2014  \n",
       "3                                      Cute!      1382313600  10 21, 2013  \n",
       "4  leopard home button sticker for iphone 4s      1359849600   02 3, 2013  \n",
       "5                                       Cute      1381536000  10 12, 2013  \n",
       "6                          best thing ever..      1377129600  08 22, 2013  \n",
       "7                            not a good Idea      1384992000  11 21, 2013  \n",
       "8                                 Solid Case      1380067200  09 25, 2013  \n",
       "9                               Perfect Case      1396483200   04 3, 2014  "
      ]
     },
     "execution_count": 22,
     "metadata": {},
     "output_type": "execute_result"
    }
   ],
   "source": [
    "list_to_df = pd.DataFrame(data)\n",
    "list_to_df.head(10)"
   ]
  },
  {
   "cell_type": "code",
   "execution_count": 34,
   "metadata": {},
   "outputs": [
    {
     "data": {
      "text/html": [
       "<div>\n",
       "<style scoped>\n",
       "    .dataframe tbody tr th:only-of-type {\n",
       "        vertical-align: middle;\n",
       "    }\n",
       "\n",
       "    .dataframe tbody tr th {\n",
       "        vertical-align: top;\n",
       "    }\n",
       "\n",
       "    .dataframe thead th {\n",
       "        text-align: right;\n",
       "    }\n",
       "</style>\n",
       "<table border=\"1\" class=\"dataframe\">\n",
       "  <thead>\n",
       "    <tr style=\"text-align: right;\">\n",
       "      <th></th>\n",
       "      <th>reviewText</th>\n",
       "      <th>overall</th>\n",
       "    </tr>\n",
       "  </thead>\n",
       "  <tbody>\n",
       "    <tr>\n",
       "      <th>0</th>\n",
       "      <td>They look good and stick good! I just don't li...</td>\n",
       "      <td>4.0</td>\n",
       "    </tr>\n",
       "    <tr>\n",
       "      <th>1</th>\n",
       "      <td>These stickers work like the review says they ...</td>\n",
       "      <td>5.0</td>\n",
       "    </tr>\n",
       "    <tr>\n",
       "      <th>2</th>\n",
       "      <td>These are awesome and make my phone look so st...</td>\n",
       "      <td>5.0</td>\n",
       "    </tr>\n",
       "    <tr>\n",
       "      <th>3</th>\n",
       "      <td>Item arrived in great time and was in perfect ...</td>\n",
       "      <td>4.0</td>\n",
       "    </tr>\n",
       "    <tr>\n",
       "      <th>4</th>\n",
       "      <td>awesome! stays on, and looks great. can be use...</td>\n",
       "      <td>5.0</td>\n",
       "    </tr>\n",
       "    <tr>\n",
       "      <th>5</th>\n",
       "      <td>These make using the home button easy. My daug...</td>\n",
       "      <td>3.0</td>\n",
       "    </tr>\n",
       "    <tr>\n",
       "      <th>6</th>\n",
       "      <td>Came just as described.. It doesn't come unstu...</td>\n",
       "      <td>5.0</td>\n",
       "    </tr>\n",
       "    <tr>\n",
       "      <th>7</th>\n",
       "      <td>it worked for the first week then it only char...</td>\n",
       "      <td>1.0</td>\n",
       "    </tr>\n",
       "    <tr>\n",
       "      <th>8</th>\n",
       "      <td>Good case, solid build. Protects phone all aro...</td>\n",
       "      <td>5.0</td>\n",
       "    </tr>\n",
       "    <tr>\n",
       "      <th>9</th>\n",
       "      <td>This is a fantastic case. Very stylish and pro...</td>\n",
       "      <td>5.0</td>\n",
       "    </tr>\n",
       "  </tbody>\n",
       "</table>\n",
       "</div>"
      ],
      "text/plain": [
       "                                          reviewText  overall\n",
       "0  They look good and stick good! I just don't li...      4.0\n",
       "1  These stickers work like the review says they ...      5.0\n",
       "2  These are awesome and make my phone look so st...      5.0\n",
       "3  Item arrived in great time and was in perfect ...      4.0\n",
       "4  awesome! stays on, and looks great. can be use...      5.0\n",
       "5  These make using the home button easy. My daug...      3.0\n",
       "6  Came just as described.. It doesn't come unstu...      5.0\n",
       "7  it worked for the first week then it only char...      1.0\n",
       "8  Good case, solid build. Protects phone all aro...      5.0\n",
       "9  This is a fantastic case. Very stylish and pro...      5.0"
      ]
     },
     "execution_count": 34,
     "metadata": {},
     "output_type": "execute_result"
    }
   ],
   "source": [
    "df = list_to_df.filter(['reviewText','overall'], axis=1)\n",
    "df.head(10)"
   ]
  },
  {
   "cell_type": "code",
   "execution_count": 35,
   "metadata": {},
   "outputs": [
    {
     "data": {
      "text/plain": [
       "<matplotlib.axes._subplots.AxesSubplot at 0x1eb2e8e6c08>"
      ]
     },
     "execution_count": 35,
     "metadata": {},
     "output_type": "execute_result"
    },
    {
     "data": {
      "image/png": "[encoded data removed]",
      "text/plain": [
       "<Figure size 432x288 with 1 Axes>"
      ]
     },
     "metadata": {
      "needs_background": "light"
     },
     "output_type": "display_data"
    }
   ],
   "source": [
    "\"\"\"\n",
    "Let's take a quick look at the distribution of different ratings\n",
    "\"\"\"\n",
    "rating_frequency_count = df.overall.value_counts()\n",
    "sns.barplot(x=rating_frequency_count.index, y=rating_frequency_count.values)"
   ]
  },
  {
   "cell_type": "code",
   "execution_count": 37,
   "metadata": {},
   "outputs": [
    {
     "data": {
      "text/html": [
       "<div>\n",
       "<style scoped>\n",
       "    .dataframe tbody tr th:only-of-type {\n",
       "        vertical-align: middle;\n",
       "    }\n",
       "\n",
       "    .dataframe tbody tr th {\n",
       "        vertical-align: top;\n",
       "    }\n",
       "\n",
       "    .dataframe thead th {\n",
       "        text-align: right;\n",
       "    }\n",
       "</style>\n",
       "<table border=\"1\" class=\"dataframe\">\n",
       "  <thead>\n",
       "    <tr style=\"text-align: right;\">\n",
       "      <th></th>\n",
       "      <th>reviewText</th>\n",
       "      <th>overall</th>\n",
       "      <th>Sentiment</th>\n",
       "    </tr>\n",
       "  </thead>\n",
       "  <tbody>\n",
       "    <tr>\n",
       "      <th>0</th>\n",
       "      <td>They look good and stick good! I just don't li...</td>\n",
       "      <td>4.0</td>\n",
       "      <td>Positive</td>\n",
       "    </tr>\n",
       "    <tr>\n",
       "      <th>1</th>\n",
       "      <td>These stickers work like the review says they ...</td>\n",
       "      <td>5.0</td>\n",
       "      <td>Positive</td>\n",
       "    </tr>\n",
       "    <tr>\n",
       "      <th>2</th>\n",
       "      <td>These are awesome and make my phone look so st...</td>\n",
       "      <td>5.0</td>\n",
       "      <td>Positive</td>\n",
       "    </tr>\n",
       "    <tr>\n",
       "      <th>3</th>\n",
       "      <td>Item arrived in great time and was in perfect ...</td>\n",
       "      <td>4.0</td>\n",
       "      <td>Positive</td>\n",
       "    </tr>\n",
       "    <tr>\n",
       "      <th>4</th>\n",
       "      <td>awesome! stays on, and looks great. can be use...</td>\n",
       "      <td>5.0</td>\n",
       "      <td>Positive</td>\n",
       "    </tr>\n",
       "    <tr>\n",
       "      <th>5</th>\n",
       "      <td>These make using the home button easy. My daug...</td>\n",
       "      <td>3.0</td>\n",
       "      <td>Positive</td>\n",
       "    </tr>\n",
       "    <tr>\n",
       "      <th>6</th>\n",
       "      <td>Came just as described.. It doesn't come unstu...</td>\n",
       "      <td>5.0</td>\n",
       "      <td>Positive</td>\n",
       "    </tr>\n",
       "    <tr>\n",
       "      <th>7</th>\n",
       "      <td>it worked for the first week then it only char...</td>\n",
       "      <td>1.0</td>\n",
       "      <td>Negative</td>\n",
       "    </tr>\n",
       "    <tr>\n",
       "      <th>8</th>\n",
       "      <td>Good case, solid build. Protects phone all aro...</td>\n",
       "      <td>5.0</td>\n",
       "      <td>Positive</td>\n",
       "    </tr>\n",
       "    <tr>\n",
       "      <th>9</th>\n",
       "      <td>This is a fantastic case. Very stylish and pro...</td>\n",
       "      <td>5.0</td>\n",
       "      <td>Positive</td>\n",
       "    </tr>\n",
       "  </tbody>\n",
       "</table>\n",
       "</div>"
      ],
      "text/plain": [
       "                                          reviewText  overall Sentiment\n",
       "0  They look good and stick good! I just don't li...      4.0  Positive\n",
       "1  These stickers work like the review says they ...      5.0  Positive\n",
       "2  These are awesome and make my phone look so st...      5.0  Positive\n",
       "3  Item arrived in great time and was in perfect ...      4.0  Positive\n",
       "4  awesome! stays on, and looks great. can be use...      5.0  Positive\n",
       "5  These make using the home button easy. My daug...      3.0  Positive\n",
       "6  Came just as described.. It doesn't come unstu...      5.0  Positive\n",
       "7  it worked for the first week then it only char...      1.0  Negative\n",
       "8  Good case, solid build. Protects phone all aro...      5.0  Positive\n",
       "9  This is a fantastic case. Very stylish and pro...      5.0  Positive"
      ]
     },
     "execution_count": 37,
     "metadata": {},
     "output_type": "execute_result"
    }
   ],
   "source": [
    "\"\"\"\n",
    "Add \"Sentiment\" column to the DataFrame based on the rule: IF overall <= 3 THEN Negative ELSE Positive.\n",
    "Later, we will use the Review and Sentiment columns to train a Binary Classifier\n",
    "\"\"\"\n",
    "df[\"Sentiment\"] = df[\"overall\"].map(lambda x: \"Negative\" if x < 3 else \"Positive\")\n",
    "df.head(10)"
   ]
  },
  {
   "cell_type": "code",
   "execution_count": 38,
   "metadata": {},
   "outputs": [
    {
     "data": {
      "text/plain": [
       "<matplotlib.axes._subplots.AxesSubplot at 0x1eb2f26e5c8>"
      ]
     },
     "execution_count": 38,
     "metadata": {},
     "output_type": "execute_result"
    },
    {
     "data": {
      "image/png": "[encoded data removed]",
      "text/plain": [
       "<Figure size 432x288 with 1 Axes>"
      ]
     },
     "metadata": {
      "needs_background": "light"
     },
     "output_type": "display_data"
    }
   ],
   "source": [
    "\"\"\"\n",
    "Let's take a quick look at the distribution of sentiments\n",
    "\"\"\"\n",
    "rating_frequency_count = df.Sentiment.value_counts()\n",
    "sns.barplot(x=rating_frequency_count.index, y=rating_frequency_count.values)"
   ]
  },
  {
   "cell_type": "code",
   "execution_count": 39,
   "metadata": {},
   "outputs": [
    {
     "data": {
      "image/png": "[encoded data removed]",
      "text/plain": [
       "<Figure size 432x288 with 1 Axes>"
      ]
     },
     "metadata": {
      "needs_background": "light"
     },
     "output_type": "display_data"
    }
   ],
   "source": [
    "\"\"\"\n",
    "Now let's find out a value for maxlen. For that, we first look at the distribution of review lengths in terms of \n",
    "number of words. A box plot is used to visualize this distribution.\n",
    "\"\"\"\n",
    "\n",
    "re_wordMatcher = re.compile(r'[a-z0-9]+') #Declare regex to extract words\n",
    "numWords = df[\"reviewText\"].map(lambda x: len(re_wordMatcher.findall(x.lower())))\n",
    "g = sns.boxplot(numWords)"
   ]
  },
  {
   "cell_type": "code",
   "execution_count": 40,
   "metadata": {},
   "outputs": [
    {
     "name": "stdout",
     "output_type": "stream",
     "text": [
      "90th quantile of review length: 214.0\n"
     ]
    }
   ],
   "source": [
    "\"\"\"\n",
    "The above plot shows that there are few very long reviews (black dots on the right) but most of the reviews are\n",
    "comparatively shorter than around 250 words. Specifically, let's find the 90th quantile of the review length. \n",
    "\"\"\"\n",
    "\n",
    "reviewLen90 = np.quantile(numWords, 0.90)\n",
    "print(\"90th quantile of review length:\", reviewLen90)"
   ]
  },
  {
   "cell_type": "code",
   "execution_count": 41,
   "metadata": {},
   "outputs": [],
   "source": [
    "\"\"\"\n",
    "Thus, 90% of reviews are of 214 words or shorter. We'll set maxlen close to this.\n",
    "\"\"\"\n",
    "maxlen = 210"
   ]
  },
  {
   "cell_type": "code",
   "execution_count": 42,
   "metadata": {},
   "outputs": [
    {
     "name": "stdout",
     "output_type": "stream",
     "text": [
      "Shape of train and test dataframes: (155551, 3) (38888, 3)\n"
     ]
    }
   ],
   "source": [
    "\"\"\"\n",
    "Lets's create training and test datasets by keeping ratio between the positive and negative labels same.\n",
    "We use sklearn.model_selection.StratifiedKFold setting number of folds (n_splits) = 5, which splits the data into\n",
    "80% train and 20% test and for 5 folds. But we keep only the first fold for this demo.\n",
    "\"\"\"\n",
    "labels = np.array(df[\"Sentiment\"].map(lambda x: 1. if x == \"Negative\" else 0.))\n",
    "#skf = StratifiedKFold(n_splits=5, random_state=0) \n",
    "skf = StratifiedKFold(n_splits=5) #### modified to remove error\n",
    "for trn_idx, tst_idx in skf.split(labels.reshape((-1, 1)), labels):\n",
    "    break\n",
    "\n",
    "train_df, test_df = df.iloc[trn_idx], df.iloc[tst_idx]\n",
    "\n",
    "print(\"Shape of train and test dataframes:\", train_df.shape, test_df.shape)"
   ]
  },
  {
   "cell_type": "markdown",
   "metadata": {},
   "source": [
    "#### Data Processing: Review & Sentiment to Numeric Features & Labels for Model Training & Evaluation"
   ]
  },
  {
   "cell_type": "code",
   "execution_count": 27,
   "metadata": {},
   "outputs": [
    {
     "name": "stderr",
     "output_type": "stream",
     "text": [
      "Could not find conda environment: py37_pytorch\n",
      "You can list all discoverable environments with `conda info --envs`.\n",
      "\n"
     ]
    },
    {
     "name": "stdout",
     "output_type": "stream",
     "text": [
      "Collecting wget\n",
      "  Downloading wget-3.2.zip (10 kB)\n",
      "Building wheels for collected packages: wget\n",
      "  Building wheel for wget (setup.py): started\n",
      "  Building wheel for wget (setup.py): finished with status 'done'\n",
      "  Created wheel for wget: filename=wget-3.2-py3-none-any.whl size=9686 sha256=9da6269ccf2ff8e53c5771dd0eaa16b628d62de74517b033ce8cbd7c407f19cd\n",
      "  Stored in directory: c:\\users\\anuro\\appdata\\local\\pip\\cache\\wheels\\a1\\b6\\7c\\0e63e34eb06634181c63adacca38b79ff8f35c37e3c13e3c02\n",
      "Successfully built wget\n",
      "Installing collected packages: wget\n",
      "Successfully installed wget-3.2\n"
     ]
    }
   ],
   "source": [
    "!conda activate py37_pytorch\n",
    "!pip install wget"
   ]
  },
  {
   "cell_type": "code",
   "execution_count": 43,
   "metadata": {},
   "outputs": [
    {
     "name": "stdout",
     "output_type": "stream",
     "text": [
      "Word2Vec file does not exist and needs to be downloaded\n",
      "100% [......................................................................] 628614720 / 628614720\n",
      "Downloading from https://dl.fbaipublicfiles.com/arrival/vectors/wiki.multi.en.vec\n"
     ]
    }
   ],
   "source": [
    "#Read FastText En model. If the file wiki.multi.en.vec' does not exist, download it from \n",
    "# https://dl.fbaipublicfiles.com/arrival/vectors/wiki.multi.en.vec\n",
    "import wget\n",
    "word2VecFile = os.path.join(os.curdir, 'wiki.multi.en.vec')\n",
    "\n",
    "if os.path.exists(word2VecFile):\n",
    "    print('Word2Vec file has been found and is being loaded...')\n",
    "    en_model = KeyedVectors.load_word2vec_format('wiki.multi.en.vec')\n",
    "else:    \n",
    "    print('Word2Vec file does not exist and needs to be downloaded')\n",
    "    url = 'https://dl.fbaipublicfiles.com/arrival/vectors/wiki.multi.en.vec'\n",
    "    wget.download(url)\n",
    "    print('\\nDownloading from', url)    \n",
    "    en_model = KeyedVectors.load_word2vec_format('wiki.multi.en.vec')"
   ]
  },
  {
   "cell_type": "code",
   "execution_count": 44,
   "metadata": {},
   "outputs": [
    {
     "name": "stdout",
     "output_type": "stream",
     "text": [
      "Vocab size in pretrained model: 200000\n"
     ]
    }
   ],
   "source": [
    "\"\"\"\n",
    "Now let us create a numpy array containing the word vectors. Later this numpy array will be used for initilaizing \n",
    "the embedding layer in the model.\n",
    "\"\"\"\n",
    "\n",
    "#vocab = list(en_model.vocab.keys())\n",
    "vocab = list(en_model.index_to_key)\n",
    "print(\"Vocab size in pretrained model:\", len(vocab))\n",
    "\n",
    "# check if the word 'and' is present in the pretrained model\n",
    "assert \"and\" in en_model\n",
    "\n",
    "# check the dimension of the word vectors\n",
    "assert embeddingDim == len(en_model[\"and\"])\n",
    "\n",
    "# initialize a numpy matrix which will store the word vectors\n",
    "# first row is for the padding token\n",
    "pretrained_weights = np.zeros((1+len(vocab), embeddingDim))\n",
    "\n",
    "# tqdm just adds a progress bar\n",
    "for i, token in enumerate(vocab):\n",
    "    pretrained_weights[i, :] = en_model[token]\n",
    "\n",
    "# map tokens in the vocab to ids\n",
    "vocab = dict(zip(vocab, range(1, len(vocab)+1)))"
   ]
  },
  {
   "cell_type": "code",
   "execution_count": 49,
   "metadata": {},
   "outputs": [],
   "source": [
    "def reviewText2Features(reviewText):\n",
    "    \"\"\"\n",
    "    Function which takes review text (basically a string!) as input and returns a features matrix X of shape\n",
    "    (maxlen, embeddingDim). This is done by splitting the review into words and then representing each word by it's\n",
    "    word vector obtained from the Word2Vec model. Sentences having more than maxlen words are truncated while shorter\n",
    "    ones are zero-padded by pre-adding all zero vectors.\n",
    "    \"\"\"\n",
    "    X = []\n",
    "    \n",
    "    reviewWords = re_wordMatcher.findall(reviewText.lower())\n",
    "    \n",
    "    \"\"\"\n",
    "    Tokenize the review using the word-matching regex and get its word vector from the pretrained Word2Vec model.\n",
    "    Words not found in the Word2Vec model are ignored\n",
    "    \"\"\"\n",
    "    for i, word in enumerate(reviewWords):\n",
    "        if word not in en_model:\n",
    "            continue\n",
    "        if i >= maxlen:\n",
    "            break\n",
    "        # X.append(en_model[word])\n",
    "        X.append(vocab[word])\n",
    "    \n",
    "    \"\"\"\n",
    "    Add zero padding in the begining of the sequence if the number of words is less than maxlen.\n",
    "    \"\"\"\n",
    "    if len(X) < maxlen:\n",
    "        # zero_padding = [[0.]*embeddingDim]*(maxlen - len(X))\n",
    "        zero_padding = [0.]*(maxlen - len(X))\n",
    "        X = zero_padding + X\n",
    "    \n",
    "    return X # np.array(X)\n",
    "        \n",
    "def row2Features(row):\n",
    "    \"\"\"\n",
    "    Function which takes a datafram row as input and produces features and labels.\n",
    "    \n",
    "    Input: row | Type: pandas.core.series.Series\n",
    "    \n",
    "    Output: X, y | Type: X - np.ndarray of shape (maxlen, embeddingDim) & y - int where Positive = 0 & Negative = 1\n",
    "    \"\"\"    \n",
    "    \n",
    "    X = reviewText2Features(row[\"reviewText\"])\n",
    "    y = 1. if row[\"Sentiment\"] == \"Negative\" else 0.\n",
    "        \n",
    "    return X, y"
   ]
  },
  {
   "cell_type": "code",
   "execution_count": 50,
   "metadata": {},
   "outputs": [
    {
     "name": "stdout",
     "output_type": "stream",
     "text": [
      "Review: They look good and stick good! I just don't like the rounded shape because I was always bumping it and Siri kept popping up and it was irritating. I just won't buy a product like this again\n",
      "Rating: 4.0\n",
      "Sentiment: Positive\n",
      "Review words: ['they', 'look', 'good', 'and', 'stick', 'good', 'i', 'just', 'don', 't', 'like', 'the', 'rounded', 'shape', 'because', 'i', 'was', 'always', 'bumping', 'it', 'and', 'siri', 'kept', 'popping', 'up', 'and', 'it', 'was', 'irritating', 'i', 'just', 'won', 't', 'buy', 'a', 'product', 'like', 'this', 'again']\n"
     ]
    }
   ],
   "source": [
    "\"\"\"\n",
    "Now apply the above function on a sample row\n",
    "\"\"\"\n",
    "sampleRow = df.iloc[0]\n",
    "reviewWords = re_wordMatcher.findall(sampleRow[\"reviewText\"].lower())\n",
    "print(\"Review:\", sampleRow[\"reviewText\"])\n",
    "print(\"Rating:\", sampleRow[\"overall\"])\n",
    "print(\"Sentiment:\", sampleRow[\"Sentiment\"])\n",
    "print(\"Review words:\", reviewWords)"
   ]
  },
  {
   "cell_type": "code",
   "execution_count": 51,
   "metadata": {},
   "outputs": [
    {
     "name": "stdout",
     "output_type": "stream",
     "text": [
      "Dimension of X: 210\n",
      "Label y: 0.0\n"
     ]
    }
   ],
   "source": [
    "\"\"\"\n",
    "Give the sample row to the function row2Features\n",
    "\"\"\"\n",
    "X, y = row2Features(sampleRow)\n",
    "print(\"Dimension of X:\", len(X))\n",
    "print(\"Label y:\", y)"
   ]
  },
  {
   "cell_type": "code",
   "execution_count": 52,
   "metadata": {},
   "outputs": [],
   "source": [
    "def shuffleArray(X, y):\n",
    "    idx = np.arange(X.shape[0])\n",
    "    np.random.shuffle(idx)\n",
    "    X = X[idx, :]\n",
    "    y = y[idx]\n",
    "    return X, y\n",
    "\n",
    "def generateModelReadyData(data, batchSize = 128, shuffle=False):\n",
    "    \"\"\"\n",
    "    Generator function which generates features and labels in batches\n",
    "    \n",
    "    Input:\n",
    "    data - DataFrame where each row has review and sentiment\n",
    "    batchSize - No. of rows for which features will be created and returned in a batch.\n",
    "    Note: This is useful for running mini-batch Gradient Descent optimization when the dataset is large.\n",
    "    \n",
    "    Output:\n",
    "    X - 3D np.ndarray of shape (batchSize, maxlen, embeddingDim)\n",
    "    y - 1D np. array of shape (batchSize,)        \n",
    "    \"\"\"\n",
    "    \n",
    "    while(True):\n",
    "        X = []\n",
    "        y = []\n",
    "        for _, row in data.iterrows():\n",
    "            \"\"\"Generate features and label for this row\"\"\"\n",
    "            X_, y_ = row2Features(row)\n",
    "\n",
    "            \"\"\"Keep accumulating the row-wise features\"\"\"\n",
    "            X.append(X_)\n",
    "            y.append(y_)   \n",
    "\n",
    "            \"\"\"If number of rows processed is greater than batchSize yield the batch and trim down X & y\n",
    "            Note: This way we avoid running into memory issues by not bloating X and y bigger and bigger\n",
    "            \"\"\"\n",
    "            if len(X) > batchSize:\n",
    "                temp_X, temp_y = np.array(X[:batchSize]), np.array(y[:batchSize])\n",
    "                if shuffle:\n",
    "                    temp_X, temp_y = shuffleArray(temp_X, temp_y)\n",
    "                \n",
    "                X, y = X[batchSize:], y[batchSize:]                    \n",
    "                yield temp_X, temp_y\n",
    "\n",
    "        \"\"\"Yield the remaining few rows when number of rows in data isn't a mutiple of batchSize\"\"\"\n",
    "        if len(X) > 0:\n",
    "            temp_X, temp_y = np.array(X), np.array(y)\n",
    "            if shuffle:\n",
    "                temp_X, temp_y = shuffleArray(temp_X, temp_y)\n",
    "            \n",
    "            yield temp_X, temp_y"
   ]
  },
  {
   "cell_type": "code",
   "execution_count": 53,
   "metadata": {
    "scrolled": true
   },
   "outputs": [
    {
     "name": "stdout",
     "output_type": "stream",
     "text": [
      "Batch: 0\n",
      "Shape of X & y matches expected values\n",
      "Batch: 1\n",
      "Shape of X & y matches expected values\n",
      "Batch: 2\n",
      "Shape of X & y matches expected values\n"
     ]
    }
   ],
   "source": [
    "\"\"\"Let's test the generator function for few batches\"\"\"\n",
    "numBatches = 0\n",
    "for i, (X, y) in enumerate(generateModelReadyData(df, batchSize=128, shuffle=True)):\n",
    "    if numBatches >= 3:\n",
    "        break\n",
    "    \n",
    "    else:\n",
    "        print(\"Batch:\", i)\n",
    "        assert X.shape == (128, maxlen)\n",
    "        assert y.shape == (128,)\n",
    "        print(\"Shape of X & y matches expected values\")\n",
    "    numBatches += 1"
   ]
  },
  {
   "cell_type": "markdown",
   "metadata": {},
   "source": [
    "#### Model Training in Pytorch"
   ]
  },
  {
   "cell_type": "code",
   "execution_count": 54,
   "metadata": {},
   "outputs": [
    {
     "data": {
      "text/plain": [
       "\"\\nNow we will train and evaluate the model. We'll use Pytorch.\\n\""
      ]
     },
     "execution_count": 54,
     "metadata": {},
     "output_type": "execute_result"
    }
   ],
   "source": [
    "\"\"\"\n",
    "Now we will train and evaluate the model. We'll use Pytorch.\n",
    "\"\"\""
   ]
  },
  {
   "cell_type": "code",
   "execution_count": 55,
   "metadata": {},
   "outputs": [],
   "source": [
    "# torch.cuda.is_available() checks and returns a Boolean True if a GPU is available, else it'll return False\n",
    "is_cuda = torch.cuda.is_available()\n",
    "\n",
    "# If we have a GPU available, we'll set our device to GPU. We'll use this device variable later in our code.\n",
    "if is_cuda:\n",
    "    print(\"cuda available\")\n",
    "    device = torch.device(\"cuda\")\n",
    "else:\n",
    "    device = torch.device(\"cpu\")"
   ]
  },
  {
   "cell_type": "code",
   "execution_count": 56,
   "metadata": {},
   "outputs": [
    {
     "data": {
      "text/plain": [
       "<torch._C.Generator at 0x1eb26114d30>"
      ]
     },
     "execution_count": 56,
     "metadata": {},
     "output_type": "execute_result"
    }
   ],
   "source": [
    "\"\"\"\n",
    "Set random number seed using torch.manual_seed to make sure the same seed is used\n",
    "by the Pytorch backend and hence ensure repeatable results\n",
    "\"\"\"\n",
    "torch.manual_seed(0)"
   ]
  },
  {
   "cell_type": "code",
   "execution_count": 57,
   "metadata": {},
   "outputs": [
    {
     "data": {
      "text/plain": [
       "\"\\nNext, we'll declare the layers of the neural network\\n\""
      ]
     },
     "execution_count": 57,
     "metadata": {},
     "output_type": "execute_result"
    }
   ],
   "source": [
    "\"\"\"\n",
    "Next, we'll declare the layers of the neural network\n",
    "\"\"\""
   ]
  },
  {
   "cell_type": "code",
   "execution_count": 58,
   "metadata": {},
   "outputs": [],
   "source": [
    "#class SentimentNet(nn.Module):\n",
    "#    def __init__(self, embedding_dim, hidden_dim, vocab_size, pretrained_weights):\n",
    "#        super(SentimentNet, self).__init__()\n",
    "        \n",
    "#        self.embedding=nn.Embedding(vocab_size, embedding_dim)\n",
    "#        self.embedding.weight.data.copy_(torch.from_numpy(pretrained_weights))\n",
    "        \n",
    "#        \"\"\"\n",
    "#        Adding a dropout layer to force some of the feature values to zero.\n",
    "#        Note: Dropout is a regularization technique which sets the activation of few randomly chosen neurons of\n",
    "#        a hidden layer to zero. It can also be applied to the input layer where some of the input features are set to zero.\n",
    "#        For more details refer http://jmlr.org/papers/v15/srivastava14a.html\n",
    "#        \"\"\"\n",
    "#        self.sentInputDropout = nn.Dropout(0.2)\n",
    "        \n",
    "#        \"\"\"\n",
    "#        Now let's stack a couple of bidirectional RNNs to process the input sequence and extract features\n",
    "#        \"\"\"\n",
    "#        self.biLSTM1 = nn.LSTM(embedding_dim, hidden_dim[0], bidirectional=True, batch_first=True)\n",
    "#        self.biLSTMDropOut = nn.Dropout(0.2)\n",
    "#        self.biLSTM2 = nn.LSTM(2*hidden_dim[0], hidden_dim[1], bidirectional=True, batch_first=True)        \n",
    "#        self.dropout1 = nn.Dropout(0.2)\n",
    "#        self.dense1 = nn.Linear(2*hidden_dim[1], 64)\n",
    "#        self.relu1 = nn.ReLU()\n",
    "#        self.dropout2 = nn.Dropout(0.2)\n",
    "        \n",
    "#        self.outputLayer = nn.Linear(64, 1)\n",
    "#        self.sigmoid = nn.Sigmoid()\n",
    "        \n",
    "#        self.hidden_dim = hidden_dim\n",
    "        \n",
    "#    def forward(self, x):\n",
    "        \n",
    "#        batch_len = x.shape[0]\n",
    "#        out = self.embedding(x)\n",
    "#        out = self.sentInputDropout(out)\n",
    "#        out, hidden = self.biLSTM1(out)\n",
    "#        out = self.biLSTMDropOut(out)\n",
    "#        out, hidden = self.biLSTM2(out)\n",
    "        \n",
    "#        out = self.dropout1(out)\n",
    "#        out = self.dense1(out)\n",
    "#        out = self.relu1(out)\n",
    "#        out = self.dropout2(out)\n",
    "        \n",
    "#        out = self.outputLayer(out)\n",
    "#        out = self.sigmoid(out)\n",
    "#        out = out.view(batch_len, -1)\n",
    "#        out = out[:,-1]\n",
    "#        return out    "
   ]
  },
  {
   "cell_type": "code",
   "execution_count": 59,
   "metadata": {},
   "outputs": [
    {
     "data": {
      "text/plain": [
       "SentimentNet(\n",
       "  (embedding): Embedding(200001, 300)\n",
       "  (sentInputDropout): Dropout(p=0.2, inplace=False)\n",
       "  (biLSTM1): LSTM(300, 256, batch_first=True, bidirectional=True)\n",
       "  (biLSTMDropOut): Dropout(p=0.2, inplace=False)\n",
       "  (biLSTM2): LSTM(512, 128, batch_first=True, bidirectional=True)\n",
       "  (dropout1): Dropout(p=0.2, inplace=False)\n",
       "  (dense1): Linear(in_features=256, out_features=64, bias=True)\n",
       "  (relu1): ReLU()\n",
       "  (dropout2): Dropout(p=0.2, inplace=False)\n",
       "  (outputLayer): Linear(in_features=64, out_features=1, bias=True)\n",
       "  (sigmoid): Sigmoid()\n",
       ")"
      ]
     },
     "execution_count": 59,
     "metadata": {},
     "output_type": "execute_result"
    }
   ],
   "source": [
    "#model = SentimentNet(embeddingDim, [256, 128], 1+len(vocab), pretrained_weights)\n",
    "#model.to(device)"
   ]
  },
  {
   "cell_type": "code",
   "execution_count": null,
   "metadata": {},
   "outputs": [],
   "source": [
    "class SentimentNet(nn.Module):\n",
    "    def __init__(self, embedding_dim, hidden_dim, vocab_size, pretrained_weights):\n",
    "        super(SentimentNet, self).__init__()\n",
    "        \n",
    "        self.embedding=nn.Embedding(vocab_size, embedding_dim)\n",
    "        self.embedding.weight.data.copy_(torch.from_numpy(pretrained_weights))\n",
    "        \n",
    "        \"\"\"\n",
    "        Adding a dropout layer to force some of the feature values to zero.\n",
    "        Note: Dropout is a regularization technique which sets the activation of few randomly chosen neurons of\n",
    "        a hidden layer to zero. It can also be applied to the input layer where some of the input features are set to zero.\n",
    "        For more details refer http://jmlr.org/papers/v15/srivastava14a.html\n",
    "        \"\"\"\n",
    "        self.sentInputDropout = nn.Dropout(0.1)\n",
    "        \n",
    "        \"\"\"\n",
    "        Now let's stack a couple of bidirectional RNNs to process the input sequence and extract features\n",
    "        \"\"\"\n",
    "        self.biLSTM1 = nn.LSTM(embedding_dim, hidden_dim[0], bidirectional=True, batch_first=True)\n",
    "        self.biLSTMDropOut = nn.Dropout(0.1)\n",
    "        #self.biLSTM2 = nn.LSTM(2*hidden_dim[0], hidden_dim[1], bidirectional=True, batch_first=True)\n",
    "        \n",
    "        #self.dropout1 = nn.Dropout(0.1)\n",
    "        self.dense1 = nn.Linear(2*hidden_dim[0], 50)\n",
    "        self.relu1 = nn.ReLU()\n",
    "        self.dropout2 = nn.Dropout(0.1)\n",
    "        \n",
    "        self.outputLayer = nn.Linear(50, 1)\n",
    "        self.sigmoid = nn.Sigmoid()\n",
    "        \n",
    "        self.hidden_dim = hidden_dim\n",
    "        \n",
    "    def forward(self, x):\n",
    "        \n",
    "        batch_len = x.shape[0]\n",
    "        out = self.embedding(x)\n",
    "        out = self.sentInputDropout(out)\n",
    "        out, hidden = self.biLSTM1(out)\n",
    "        out = self.biLSTMDropOut(out)\n",
    "        out, hidden = self.biLSTM2(out)\n",
    "        \n",
    "        out = self.dropout1(out)\n",
    "        out = self.dense1(out)\n",
    "        out = self.relu1(out)\n",
    "        out = self.dropout2(out)\n",
    "        \n",
    "        out = self.outputLayer(out)\n",
    "        out = self.sigmoid(out)\n",
    "        out = out.view(batch_len, -1)\n",
    "        out = out[:,-1]\n",
    "        return out    "
   ]
  },
  {
   "cell_type": "code",
   "execution_count": null,
   "metadata": {},
   "outputs": [],
   "source": [
    "model = SentimentNet(embeddingDim, [100], 1+len(vocab), pretrained_weights)\n",
    "model.to(device)"
   ]
  },
  {
   "cell_type": "code",
   "execution_count": 60,
   "metadata": {},
   "outputs": [],
   "source": [
    "lr=0.005\n",
    "criterion = nn.BCELoss()\n",
    "optimizer = torch.optim.Adam(model.parameters(), lr=lr)"
   ]
  },
  {
   "cell_type": "code",
   "execution_count": null,
   "metadata": {},
   "outputs": [
    {
     "name": "stdout",
     "output_type": "stream",
     "text": [
      "Epoch: 1\n",
      "Running a pass over the training data...\n",
      "Batches completed: 100\n",
      "Batches completed: 200\n",
      "Batches completed: 300\n",
      "Batches completed: 400\n",
      "Batches completed: 500\n"
     ]
    }
   ],
   "source": [
    "epochs = 1\n",
    "counter = 0\n",
    "print_every = 1000\n",
    "clip = 5\n",
    "valid_loss_min = np.Inf\n",
    "\n",
    "model = model.float()\n",
    "model.train()\n",
    "for i in range(epochs):\n",
    "    print(\"Epoch:\", i+1)\n",
    "    #h = model.init_hidden(128)\n",
    "    print(\"Running a pass over the training data...\")\n",
    "    for j, (inputs, labels) in enumerate(generateModelReadyData(train_df, batchSize=128, shuffle=True)):\n",
    "        if j >= np.ceil(train_df.shape[0]/128):\n",
    "            break\n",
    "        \n",
    "    #for inputs, labels in train_loader:\n",
    "        counter += 1\n",
    "        #h = tuple([e.data for e in h])\n",
    "        inputs, labels = torch.from_numpy(inputs), torch.from_numpy(labels)\n",
    "        inputs, labels = inputs.to(device), labels.to(device)\n",
    "        model.zero_grad()\n",
    "        #output, h = model(inputs, h)\n",
    "        output = model(inputs.long())\n",
    "        #print(output.shape)\n",
    "        #print(output)\n",
    "        loss = criterion(output.squeeze(), labels.float())\n",
    "        loss.backward()\n",
    "        nn.utils.clip_grad_norm_(model.parameters(), clip)\n",
    "        optimizer.step()        \n",
    "        if (j+1) % 100 == 0:\n",
    "            print(\"Batches completed:\", j+1)\n",
    "    \n",
    "    print(\"Batches completed:\", j+1)\n",
    "\n",
    "    #val_h = model.init_hidden(batch_size)\n",
    "    val_losses = []\n",
    "    model.eval()\n",
    "    print(\"Running a pass over the test data...\")\n",
    "    for k, (inp, lab) in enumerate(generateModelReadyData(test_df, batchSize=128, shuffle=False)):\n",
    "        if k >= np.ceil(test_df.shape[0]/128):\n",
    "            break\n",
    "    #for inp, lab in val_loader:\n",
    "        #val_h = tuple([each.data for each in val_h])\n",
    "        inp, lab = torch.from_numpy(inp), torch.from_numpy(lab)\n",
    "        inp, lab = inp.to(device), lab.to(device)\n",
    "        out = model(inp.long())\n",
    "        val_loss = criterion(out.squeeze(), lab.float())\n",
    "        val_losses.append(val_loss.item())\n",
    "        if (k+1) % 100 == 0:\n",
    "            print(\"Batches completed:\", k+1)\n",
    "    \n",
    "    print(\"Batches completed:\", k+1)\n",
    "\n",
    "    model.train()\n",
    "    print(\"Epoch: {}/{}...\".format(i+1, epochs),\n",
    "          \"Step: {}...\".format(counter),\n",
    "          \"Loss: {:.6f}...\".format(loss.item()),\n",
    "          \"Val Loss: {:.6f}\".format(np.mean(val_losses)))\n",
    "    if np.mean(val_losses) <= valid_loss_min:\n",
    "        torch.save(model.state_dict(), './state_dict.pt')\n",
    "        print('Validation loss decreased ({:.6f} --> {:.6f}).  Saving model ...'.format(valid_loss_min,np.mean(val_losses)))\n",
    "        valid_loss_min = np.mean(val_losses)"
   ]
  },
  {
   "cell_type": "code",
   "execution_count": 26,
   "metadata": {},
   "outputs": [
    {
     "name": "stdout",
     "output_type": "stream",
     "text": [
      "Class weights: 0.079 0.921\n"
     ]
    }
   ],
   "source": [
    "\"\"\"\n",
    "Earlier we have seen that the review sentiments are imbalanced with more number of Positive cases than Negative ones.\n",
    "Imbalance datasets make it difficult for the model to learn patterns for the under-represented class.\n",
    "We tackle this problem by introducing class weights during training which are used to assign higher weightage\n",
    "to errors made in predicting the under-represented class.\n",
    "\n",
    "Class weights are computed from inverse of frequency counts as follows.\n",
    "\"\"\"\n",
    "freqCounts = train_df[\"Sentiment\"].value_counts()\n",
    "weightOfPositive = round( (1./freqCounts[\"Positive\"]) / (1./freqCounts[\"Positive\"] + 1./freqCounts[\"Negative\"]), 3)\n",
    "weightOfNegative = round( (1./freqCounts[\"Negative\"]) / (1./freqCounts[\"Positive\"] + 1./freqCounts[\"Negative\"]), 3)\n",
    "print(\"Class weights:\", weightOfPositive, weightOfNegative)"
   ]
  },
  {
   "cell_type": "code",
   "execution_count": 27,
   "metadata": {},
   "outputs": [
    {
     "data": {
      "text/plain": [
       "'\\nFor making predictions, optionally you can use CPU instead of GPU. But for that we need to change the device so that Pytorch can \\nrun on CPU. Let us change the device here.\\n'"
      ]
     },
     "execution_count": 27,
     "metadata": {},
     "output_type": "execute_result"
    }
   ],
   "source": [
    "\"\"\"\n",
    "For making predictions, optionally you can use CPU instead of GPU. But for that we need to change the device so that Pytorch can \n",
    "run on CPU. Let us change the device here.\n",
    "\"\"\"\n",
    "# device = torch.device(\"cpu\")"
   ]
  },
  {
   "cell_type": "markdown",
   "metadata": {},
   "source": [
    "#### Model Evaluation"
   ]
  },
  {
   "cell_type": "code",
   "execution_count": 28,
   "metadata": {},
   "outputs": [
    {
     "data": {
      "text/plain": [
       "SentimentNet(\n",
       "  (embedding): Embedding(200001, 300)\n",
       "  (sentInputDropout): Dropout(p=0.2, inplace=False)\n",
       "  (biLSTM1): LSTM(300, 256, batch_first=True, bidirectional=True)\n",
       "  (biLSTMDropOut): Dropout(p=0.2, inplace=False)\n",
       "  (biLSTM2): LSTM(512, 128, batch_first=True, bidirectional=True)\n",
       "  (dropout1): Dropout(p=0.2, inplace=False)\n",
       "  (dense1): Linear(in_features=256, out_features=64, bias=True)\n",
       "  (relu1): ReLU()\n",
       "  (dropout2): Dropout(p=0.2, inplace=False)\n",
       "  (outputLayer): Linear(in_features=64, out_features=1, bias=True)\n",
       "  (sigmoid): Sigmoid()\n",
       ")"
      ]
     },
     "execution_count": 28,
     "metadata": {},
     "output_type": "execute_result"
    }
   ],
   "source": [
    "\"\"\"\n",
    "At this point we can load a pretrained model which was trained for 5 epochs and make predictions using it.\n",
    "Uncomment and run the below line to load the pretrained model\n",
    "\"\"\"\n",
    "model.load_state_dict(torch.load('./state_dict.pt'))\n",
    "model.to(device)"
   ]
  },
  {
   "cell_type": "code",
   "execution_count": 29,
   "metadata": {},
   "outputs": [
    {
     "name": "stdout",
     "output_type": "stream",
     "text": [
      "Batches completed: 100\n",
      "Batches completed: 158\n",
      "Test loss: 0.080\n",
      "Test accuracy: 97.115%\n"
     ]
    }
   ],
   "source": [
    "test_losses = []\n",
    "num_correct = 0\n",
    "pred_proba = []\n",
    "actual = []\n",
    "\n",
    "model.eval()\n",
    "for j, (X_test, y_test) in enumerate(generateModelReadyData(test_df, batchSize=128)):\n",
    "    if j >= np.ceil(test_df.shape[0]/128):\n",
    "        break\n",
    "    \n",
    "    inputs_test, labels_test = torch.from_numpy(X_test), torch.from_numpy(y_test)\n",
    "    inputs_test, labels_test = inputs_test.to(device), labels_test.to(device)\n",
    "    output_test = model(inputs_test.long())\n",
    "    test_loss = criterion(output_test.squeeze(), labels_test.float())\n",
    "    test_losses.append(test_loss.item())\n",
    "    pred = torch.round(output_test.squeeze())  # Rounds the output to 0/1\n",
    "    correct_tensor = pred.eq(labels_test.float().view_as(pred))\n",
    "    correct = np.squeeze(correct_tensor.cpu().numpy())\n",
    "    num_correct += np.sum(correct)\n",
    "    pred_proba.extend(output_test.cpu().squeeze().detach().numpy())\n",
    "    actual.extend(y_test)\n",
    "    \n",
    "    if (j+1) % 100 == 0:\n",
    "        print(\"Batches completed:\", j+1)\n",
    "\n",
    "print(\"Batches completed:\", j+1)\n",
    "\n",
    "print(\"Test loss: {:.3f}\".format(np.mean(test_losses)))\n",
    "test_acc = num_correct/len(test_df)\n",
    "print(\"Test accuracy: {:.3f}%\".format(test_acc*100))"
   ]
  },
  {
   "cell_type": "code",
   "execution_count": 30,
   "metadata": {},
   "outputs": [
    {
     "name": "stdout",
     "output_type": "stream",
     "text": [
      "Area under ROC: 0.9841465817187715\n"
     ]
    }
   ],
   "source": [
    "\"\"\"\n",
    "Evaluate using Area Under Reciever Operating Charecteristic curve\n",
    "Reference on AUC-ROC: https://towardsdatascience.com/understanding-auc-roc-curve-68b2303cc9c5\n",
    "\"\"\"\n",
    "print(\"Area under ROC:\", roc_auc_score(actual, pred_proba))"
   ]
  },
  {
   "cell_type": "code",
   "execution_count": 31,
   "metadata": {},
   "outputs": [
    {
     "data": {
      "image/png": "[encoded data removed]",
      "text/plain": [
       "<Figure size 432x288 with 1 Axes>"
      ]
     },
     "metadata": {
      "needs_background": "light"
     },
     "output_type": "display_data"
    }
   ],
   "source": [
    "\"\"\"\n",
    "Let's plot the ROC curve.\n",
    "First, we will compute False Positive Rate (FPR) & True Postive Rate (TPR) for different values of threshold and\n",
    "find the area under the curve.\n",
    "Note: Positive here indicates class label = 1 which is Negative sentiment in our case\n",
    "      Negative indicates class label = 0 which is Positive sentiment in our case\n",
    "\"\"\"\n",
    "fpr, tpr, thresholds = roc_curve(actual, pred_proba) \n",
    "roc_auc = auc(fpr, tpr)\n",
    "\n",
    "plt.figure()\n",
    "lw = 2\n",
    "plt.plot(fpr, tpr, color='darkorange',\n",
    "         lw=lw, label='ROC curve (area = %0.2f)' % roc_auc)\n",
    "plt.plot([0, 1], [0, 1], color='navy', lw=lw, linestyle='--')\n",
    "plt.xlim([0.0, 1.0])\n",
    "plt.ylim([0.0, 1.05])\n",
    "plt.xlabel('False Positive Rate')\n",
    "plt.ylabel('True Positive Rate')\n",
    "plt.title('Receiver operating characteristic example')\n",
    "plt.legend(loc=\"lower right\")\n",
    "plt.show()"
   ]
  },
  {
   "cell_type": "code",
   "execution_count": 32,
   "metadata": {},
   "outputs": [],
   "source": [
    "\"\"\"\n",
    "Let's convert predicted probabilites to predicted sentiments using a threshold=0.10\n",
    "and compute the confusion matrix\n",
    "\"\"\"\n",
    "\n",
    "predicted = pd.Series([\"Negative\" if p>=0.10 else \"Positive\" for p in pred_proba], name=\"Predicted\")\n",
    "actual = pd.Series(test_df[\"Sentiment\"], name=\"Actual\")\n",
    "confusion_matrix = pd.crosstab(actual, predicted)"
   ]
  },
  {
   "cell_type": "code",
   "execution_count": 33,
   "metadata": {},
   "outputs": [
    {
     "data": {
      "image/png": "[encoded data removed]",
      "text/plain": [
       "<Figure size 432x288 with 2 Axes>"
      ]
     },
     "metadata": {
      "needs_background": "light"
     },
     "output_type": "display_data"
    }
   ],
   "source": [
    "\"\"\"Plot the confusion matrix\"\"\"\n",
    "\n",
    "ax= plt.subplot()\n",
    "g = sns.heatmap(confusion_matrix.as_matrix(), annot=True, ax = ax, fmt=\"d\", cmap=\"YlGnBu\")\n",
    "#g = sns.heatmap(confusion_matrix.values, annot=True, ax = ax, fmt=\"d\", cmap=\"YlGnBu\")\n",
    "g.set_xlabel('Predicted')\n",
    "g.set_ylabel('Actual')\n",
    "g.set_title('Confusion Matrix')\n",
    "g.xaxis.set_ticklabels(['Negative', 'Positive'])\n",
    "g.yaxis.set_ticklabels(['Negative', 'Positive'])\n",
    "plt.show()"
   ]
  },
  {
   "cell_type": "markdown",
   "metadata": {},
   "source": [
    "#### Sentiment Prediction for new reviews"
   ]
  },
  {
   "cell_type": "code",
   "execution_count": 34,
   "metadata": {},
   "outputs": [],
   "source": [
    "\"\"\"\n",
    "Let us now see how to predict Sentiment of a review. For this we'll use the function\n",
    "reviewText2Features which converts a review into a feature matrix X. However, X is 2D tensor while the model's network\n",
    "expects a 3D tensor of dimensions (batch_size, maxlen, embeddingDim). Hence, for a single review we reshape the output\n",
    "of reviewText2Features to dimensions (1, maxlen, embeddingDim). This 3D matrix is given to the model which outputs predicted\n",
    "probability. This in turn is converted to Sentiment applying the above threshold.\n",
    "\n",
    "The below function wraps in all these logic.\n",
    "\"\"\"\n",
    "\n",
    "def predictSentiment(reviewText):\n",
    "    X = reviewText2Features(reviewText)\n",
    "    X = np.array(X).reshape((1, -1))\n",
    "    X = torch.from_numpy(X)\n",
    "    X = X.to(device)\n",
    "    model.eval()\n",
    "    pred_proba = model(X.long())\n",
    "    pred_proba = pred_proba.cpu().squeeze().detach().numpy()\n",
    "    if pred_proba >= 0.10:\n",
    "        return \"Negative\", pred_proba\n",
    "    else:\n",
    "        return \"Positive\", pred_proba"
   ]
  },
  {
   "cell_type": "code",
   "execution_count": 37,
   "metadata": {},
   "outputs": [
    {
     "name": "stdout",
     "output_type": "stream",
     "text": [
      "Review:  A dream cottage in a dream village. A very personal service so hard to find these days and by far the most idealistic B & B i have stayed in. Would highly recommend and looking forward to staying again when next in the area. Cornwall.\n",
      "Actual Sentiment: Positive\n",
      "Predicted Sentiment:  Positive\n",
      "x---------------------------------------------------------------------------------------------------x\n",
      "Review:  Always stay here when in Brighton and wouldn't ever think of staying anywhere else. Comfortable, clean and warm rooms. The owners are very welcoming and genuinely nice people. I realise that I am shooting myself in the foot by encouraging others to stay but anything less than a good review wouldn't be right.    \n",
      "Actual Sentiment: Positive\n",
      "Predicted Sentiment:  Positive\n",
      "x---------------------------------------------------------------------------------------------------x\n",
      "Review:  A warm welcome awaits at this secluded B+B. Bright comfortable rooms with garden views and a very comfortable bed. A wide choice of breakfast served in a bright conservatory makes for a good start to the day. Gary was very helpful with local knowledge and the hosts contributed to a very enjoyable stay. Will certainly stay again when in the area.\n",
      "Actual Sentiment: Positive\n",
      "Predicted Sentiment:  Positive\n",
      "x---------------------------------------------------------------------------------------------------x\n",
      "Review:  Ann and David are perfect hosts and a stay in their home is relaxing and warm. Their attention to details makes a person feel properly cared for and their kindness sets the tone for a wonderful town and outstanding countryside. Highly recommended.\n",
      "Actual Sentiment: Positive\n",
      "Predicted Sentiment:  Positive\n",
      "x---------------------------------------------------------------------------------------------------x\n",
      "Review:  A very comfortable B&B located a short walk outside Armagh backing on to rolling countryside. We were warmly welcomed by Maureen who was very friendly and provided us with a good breakfast. A little hard to find as B&Bs are apparently not allowed to put up direction signs! Our only minor issue... the overly bright green night lights that we were unable to turn off in the rooms. \n",
      "Actual Sentiment: Positive\n",
      "Predicted Sentiment:  Positive\n",
      "x---------------------------------------------------------------------------------------------------x\n",
      "Review:  This place was vile! Would never stay here again the people who own it were friendly but it stunk of smoke and dogs barking in the breakfast room mould in the bathroom I would say 50 quid for the night was expensive I would of rather slept in the car I didn't feel safe at all there was banging and shouting in the hallways on a night and a man on a bike constantly outside swearing and looking around very strange and people slamming doors never would I stop here again, however the staff were very kind and did make us feel welcome \n",
      "Actual Sentiment: Negative\n",
      "Predicted Sentiment:  Negative\n",
      "x---------------------------------------------------------------------------------------------------x\n",
      "Review:  I had the unfortunate situation of having to collect my sister from this accommodation after she cut her foot on a shard of glass which had been left on floor this was after they owners had not been at the accommodation at the agreed time for check in and followed by a cold shower.  To add further insult when we went to collect her belongings and explain why the accommodation was not suitable the female owner was insulting, rude and wholly unprofessional. All I can say is that I am so pleased my sister did not have to stay there. \n",
      "Actual Sentiment: Negative\n",
      "Predicted Sentiment:  Negative\n",
      "x---------------------------------------------------------------------------------------------------x\n",
      "Review:  Lovely position for sea. Did tell me no cooked breakfast but dining room table thick dust. Milk, fruit juice etc all been used by other guests and long way from room. Bedroom cramped. Bathroom had to go through owners part to reach. Moved to hotel in Eastbourne much cheaper, cleaner and had service and cooked breakfast. \n",
      "Actual Sentiment: Negative\n",
      "Predicted Sentiment:  Positive\n",
      "x---------------------------------------------------------------------------------------------------x\n",
      "Review:  Booked a room got to hotel no staff called number to be given code to door n help self.got into room and yuk really tatty. Dirty carpet.damp walls n stunk it was that bad I left straight away. I've never seen anything so bad.\n",
      "Actual Sentiment: Negative\n",
      "Predicted Sentiment:  Negative\n",
      "x---------------------------------------------------------------------------------------------------x\n",
      "Review:  i think is good for everyone from any class.hey!you have to be there.\n",
      "Actual Sentiment: Negative\n",
      "Predicted Sentiment:  Positive\n",
      "x---------------------------------------------------------------------------------------------------x\n"
     ]
    }
   ],
   "source": [
    "\"\"\"\n",
    "Now test the above function with few positive and negative reviews from test_df\n",
    "\"\"\"\n",
    "\n",
    "pos_reviews = list(test_df[\"reviewText\"].loc[test_df[\"Sentiment\"] == \"Positive\"].iloc[:5])\n",
    "neg_reviews = list(test_df[\"reviewText\"].loc[test_df[\"Sentiment\"] == \"Negative\"].iloc[:5])\n",
    "\n",
    "for reviewText, actualSentiment in  zip(pos_reviews + neg_reviews, [\"Positive\"]*5+[\"Negative\"]*5):\n",
    "    sentiment, probability = predictSentiment(reviewText)\n",
    "    \"\"\"\n",
    "    Since, the model always predicts probability of being Negative, we compute (1-probability) as \n",
    "    probability when predicted sentiment is Positive\n",
    "    \"\"\"\n",
    "    if sentiment == \"Positive\":\n",
    "        probability = 1 - probability\n",
    "    \n",
    "    probability = np.round(probability, 4)\n",
    "    print(\"Review: \", reviewText)\n",
    "    print(\"Actual Sentiment:\", actualSentiment)\n",
    "    print(\"Predicted Sentiment: \", sentiment)\n",
    "    print(\"x---------------------------------------------------------------------------------------------------x\")"
   ]
  }
 ],
 "metadata": {
  "kernelspec": {
   "display_name": "Python 3",
   "language": "python",
   "name": "python3"
  },
  "language_info": {
   "codemirror_mode": {
    "name": "ipython",
    "version": 3
   },
   "file_extension": ".py",
   "mimetype": "text/x-python",
   "name": "python",
   "nbconvert_exporter": "python",
   "pygments_lexer": "ipython3",
   "version": "3.8.8"
  }
 },
 "nbformat": 4,
 "nbformat_minor": 2
}
