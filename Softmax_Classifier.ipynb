{
 "cells": [
  {
   "cell_type": "markdown",
   "metadata": {},
   "source": [
    "Create a simple softmax classifier with 3 neurons in output layer and no hidden layer."
   ]
  },
  {
   "cell_type": "code",
   "execution_count": 1,
   "metadata": {},
   "outputs": [],
   "source": [
    "import torch\n",
    "import torch.nn as nn\n",
    "import torch.nn.functional as nnF\n",
    "import pandas as pd\n",
    "import numpy as np\n",
    "import matplotlib.pyplot as plt\n",
    "from sklearn.model_selection import train_test_split"
   ]
  },
  {
   "cell_type": "code",
   "execution_count": 2,
   "metadata": {},
   "outputs": [],
   "source": [
    "train = pd.read_csv(\"./Dataset/iris_training.csv\", header=None)"
   ]
  },
  {
   "cell_type": "code",
   "execution_count": 3,
   "metadata": {},
   "outputs": [],
   "source": [
    "train.columns = ['sepal_length','sepal_width','petal_length','petal_width','class']"
   ]
  },
  {
   "cell_type": "code",
   "execution_count": 4,
   "metadata": {},
   "outputs": [
    {
     "data": {
      "text/html": [
       "<div>\n",
       "<style scoped>\n",
       "    .dataframe tbody tr th:only-of-type {\n",
       "        vertical-align: middle;\n",
       "    }\n",
       "\n",
       "    .dataframe tbody tr th {\n",
       "        vertical-align: top;\n",
       "    }\n",
       "\n",
       "    .dataframe thead th {\n",
       "        text-align: right;\n",
       "    }\n",
       "</style>\n",
       "<table border=\"1\" class=\"dataframe\">\n",
       "  <thead>\n",
       "    <tr style=\"text-align: right;\">\n",
       "      <th></th>\n",
       "      <th>sepal_length</th>\n",
       "      <th>sepal_width</th>\n",
       "      <th>petal_length</th>\n",
       "      <th>petal_width</th>\n",
       "      <th>class</th>\n",
       "    </tr>\n",
       "  </thead>\n",
       "  <tbody>\n",
       "    <tr>\n",
       "      <th>0</th>\n",
       "      <td>6.4</td>\n",
       "      <td>2.8</td>\n",
       "      <td>5.6</td>\n",
       "      <td>2.2</td>\n",
       "      <td>2</td>\n",
       "    </tr>\n",
       "    <tr>\n",
       "      <th>1</th>\n",
       "      <td>5.0</td>\n",
       "      <td>2.3</td>\n",
       "      <td>3.3</td>\n",
       "      <td>1.0</td>\n",
       "      <td>1</td>\n",
       "    </tr>\n",
       "    <tr>\n",
       "      <th>2</th>\n",
       "      <td>4.9</td>\n",
       "      <td>2.5</td>\n",
       "      <td>4.5</td>\n",
       "      <td>1.7</td>\n",
       "      <td>2</td>\n",
       "    </tr>\n",
       "    <tr>\n",
       "      <th>3</th>\n",
       "      <td>4.9</td>\n",
       "      <td>3.1</td>\n",
       "      <td>1.5</td>\n",
       "      <td>0.1</td>\n",
       "      <td>0</td>\n",
       "    </tr>\n",
       "    <tr>\n",
       "      <th>4</th>\n",
       "      <td>5.7</td>\n",
       "      <td>3.8</td>\n",
       "      <td>1.7</td>\n",
       "      <td>0.3</td>\n",
       "      <td>0</td>\n",
       "    </tr>\n",
       "  </tbody>\n",
       "</table>\n",
       "</div>"
      ],
      "text/plain": [
       "   sepal_length  sepal_width  petal_length  petal_width  class\n",
       "0           6.4          2.8           5.6          2.2      2\n",
       "1           5.0          2.3           3.3          1.0      1\n",
       "2           4.9          2.5           4.5          1.7      2\n",
       "3           4.9          3.1           1.5          0.1      0\n",
       "4           5.7          3.8           1.7          0.3      0"
      ]
     },
     "execution_count": 4,
     "metadata": {},
     "output_type": "execute_result"
    }
   ],
   "source": [
    "train.head(5)"
   ]
  },
  {
   "cell_type": "code",
   "execution_count": 5,
   "metadata": {},
   "outputs": [],
   "source": [
    "test = pd.read_csv(\"./Dataset/iris_test.csv\", header=None)"
   ]
  },
  {
   "cell_type": "code",
   "execution_count": 6,
   "metadata": {},
   "outputs": [],
   "source": [
    "test.columns = ['sepal_length','sepal_width','petal_length','petal_width','class']"
   ]
  },
  {
   "cell_type": "code",
   "execution_count": 7,
   "metadata": {},
   "outputs": [
    {
     "data": {
      "text/html": [
       "<div>\n",
       "<style scoped>\n",
       "    .dataframe tbody tr th:only-of-type {\n",
       "        vertical-align: middle;\n",
       "    }\n",
       "\n",
       "    .dataframe tbody tr th {\n",
       "        vertical-align: top;\n",
       "    }\n",
       "\n",
       "    .dataframe thead th {\n",
       "        text-align: right;\n",
       "    }\n",
       "</style>\n",
       "<table border=\"1\" class=\"dataframe\">\n",
       "  <thead>\n",
       "    <tr style=\"text-align: right;\">\n",
       "      <th></th>\n",
       "      <th>sepal_length</th>\n",
       "      <th>sepal_width</th>\n",
       "      <th>petal_length</th>\n",
       "      <th>petal_width</th>\n",
       "      <th>class</th>\n",
       "    </tr>\n",
       "  </thead>\n",
       "  <tbody>\n",
       "    <tr>\n",
       "      <th>0</th>\n",
       "      <td>5.9</td>\n",
       "      <td>3.0</td>\n",
       "      <td>4.2</td>\n",
       "      <td>1.5</td>\n",
       "      <td>1</td>\n",
       "    </tr>\n",
       "    <tr>\n",
       "      <th>1</th>\n",
       "      <td>6.9</td>\n",
       "      <td>3.1</td>\n",
       "      <td>5.4</td>\n",
       "      <td>2.1</td>\n",
       "      <td>2</td>\n",
       "    </tr>\n",
       "    <tr>\n",
       "      <th>2</th>\n",
       "      <td>5.1</td>\n",
       "      <td>3.3</td>\n",
       "      <td>1.7</td>\n",
       "      <td>0.5</td>\n",
       "      <td>0</td>\n",
       "    </tr>\n",
       "    <tr>\n",
       "      <th>3</th>\n",
       "      <td>6.0</td>\n",
       "      <td>3.4</td>\n",
       "      <td>4.5</td>\n",
       "      <td>1.6</td>\n",
       "      <td>1</td>\n",
       "    </tr>\n",
       "    <tr>\n",
       "      <th>4</th>\n",
       "      <td>5.5</td>\n",
       "      <td>2.5</td>\n",
       "      <td>4.0</td>\n",
       "      <td>1.3</td>\n",
       "      <td>1</td>\n",
       "    </tr>\n",
       "  </tbody>\n",
       "</table>\n",
       "</div>"
      ],
      "text/plain": [
       "   sepal_length  sepal_width  petal_length  petal_width  class\n",
       "0           5.9          3.0           4.2          1.5      1\n",
       "1           6.9          3.1           5.4          2.1      2\n",
       "2           5.1          3.3           1.7          0.5      0\n",
       "3           6.0          3.4           4.5          1.6      1\n",
       "4           5.5          2.5           4.0          1.3      1"
      ]
     },
     "execution_count": 7,
     "metadata": {},
     "output_type": "execute_result"
    }
   ],
   "source": [
    "test.head(5)"
   ]
  },
  {
   "cell_type": "code",
   "execution_count": 8,
   "metadata": {},
   "outputs": [],
   "source": [
    "X_train = train.drop('class', axis=1).values\n",
    "y_train = train['class'].values\n",
    "#X_train"
   ]
  },
  {
   "cell_type": "code",
   "execution_count": 9,
   "metadata": {},
   "outputs": [],
   "source": [
    "#y_train"
   ]
  },
  {
   "cell_type": "code",
   "execution_count": 10,
   "metadata": {},
   "outputs": [],
   "source": [
    "X_test = test.drop('class', axis=1).values\n",
    "y_test = test['class'].values\n",
    "#X_test"
   ]
  },
  {
   "cell_type": "code",
   "execution_count": 11,
   "metadata": {},
   "outputs": [],
   "source": [
    "#y_test"
   ]
  },
  {
   "cell_type": "code",
   "execution_count": 12,
   "metadata": {},
   "outputs": [],
   "source": [
    "X_train = torch.FloatTensor(X_train)\n",
    "X_test = torch.FloatTensor(X_test)\n",
    "y_train = torch.LongTensor(y_train)\n",
    "y_test = torch.LongTensor(y_test)"
   ]
  },
  {
   "cell_type": "code",
   "execution_count": 23,
   "metadata": {},
   "outputs": [],
   "source": [
    "class myNet(nn.Module):\n",
    "   def __init__(self):\n",
    "       super().__init__()\n",
    "       self.output = nn.Linear(in_features=4, out_features=3)\n",
    "       self.smax = nn.Softmax(dim=-1)\n",
    "\n",
    " \n",
    "   def forward(self, x):\n",
    "     x = self.output(x)\n",
    "     x = self.smax(x)\n",
    "     #x = nnF.log_softmax(x,dim=1)\n",
    "     #return nnF.log_softmax(x,dim=1)\n",
    "     return x"
   ]
  },
  {
   "cell_type": "code",
   "execution_count": 24,
   "metadata": {},
   "outputs": [
    {
     "data": {
      "text/plain": [
       "myNet(\n",
       "  (output): Linear(in_features=4, out_features=3, bias=True)\n",
       "  (smax): Softmax(dim=-1)\n",
       ")"
      ]
     },
     "execution_count": 24,
     "metadata": {},
     "output_type": "execute_result"
    }
   ],
   "source": [
    "model = myNet()\n",
    "model"
   ]
  },
  {
   "cell_type": "code",
   "execution_count": 25,
   "metadata": {},
   "outputs": [
    {
     "name": "stdout",
     "output_type": "stream",
     "text": [
      "CrossEntropyLoss() SGD (\n",
      "Parameter Group 0\n",
      "    dampening: 0\n",
      "    lr: 0.05\n",
      "    momentum: 0\n",
      "    nesterov: False\n",
      "    weight_decay: 0\n",
      ")\n"
     ]
    }
   ],
   "source": [
    "# Loss funciton\n",
    "criterion = nn.CrossEntropyLoss()\n",
    "\n",
    "# Optimizer\n",
    "#optimizer = torch.optim.Adam(model.parameters(), lr=0.05)\n",
    "optimizer = torch.optim.SGD(model.parameters(), lr=0.05)\n",
    "\n",
    "print(criterion, optimizer)"
   ]
  },
  {
   "cell_type": "code",
   "execution_count": 26,
   "metadata": {},
   "outputs": [],
   "source": [
    "# epochs = 10000\n",
    "# train_loss_arr = []\n",
    "# for i in range(epochs):\n",
    "#    optimizer.zero_grad()\n",
    "#    y_hat = model.forward(X_train)\n",
    "#    loss = criterion(y_hat, y_train)\n",
    "#    train_loss_arr.append(loss)\n",
    " \n",
    "#    if i % 500 == 0:\n",
    "#        print(f'Epoch: {i}, Loss: {loss}')\n",
    " \n",
    "   \n",
    "#    loss.backward()\n",
    "#    optimizer.step()"
   ]
  },
  {
   "cell_type": "code",
   "execution_count": 27,
   "metadata": {},
   "outputs": [],
   "source": [
    "# prediction = []\n",
    "# with torch.no_grad():\n",
    "#    for val in X_test:\n",
    "#        #print(val)\n",
    "#        y_hat = model.forward(val)\n",
    "#        prediction.append(y_hat.argmax().item())"
   ]
  },
  {
   "cell_type": "code",
   "execution_count": 28,
   "metadata": {},
   "outputs": [],
   "source": [
    "# df = pd.DataFrame({'Y': y_test, 'YHat': prediction})\n",
    "# df['Correct'] = [1 if corr == pred else 0 for corr, pred in zip(df['Y'], df['YHat'])]"
   ]
  },
  {
   "cell_type": "code",
   "execution_count": 29,
   "metadata": {},
   "outputs": [],
   "source": [
    "#df.head()"
   ]
  },
  {
   "cell_type": "code",
   "execution_count": 30,
   "metadata": {},
   "outputs": [],
   "source": [
    "#df['Correct'].sum() / len(df)"
   ]
  },
  {
   "cell_type": "code",
   "execution_count": 31,
   "metadata": {},
   "outputs": [],
   "source": [
    "# Correct0 = Correct1 = Correct2 = 0\n",
    "# Y0=Y1=Y2 = 0\n",
    "# for i in range(len(df)):\n",
    "#     if(df['Y'][i] == 0):\n",
    "#         Y0 += 1\n",
    "#         Correct0 += df['Correct'][i]\n",
    "#     elif(df['Y'][i] == 1):\n",
    "#         Y1 += 1\n",
    "#         Correct1 += df['Correct'][i]\n",
    "#     else:\n",
    "#         Y2 += 1\n",
    "#         Correct2 += df['Correct'][i]\n",
    "        \n",
    "    \n",
    "# print(\"Accuracy for Class 0: \", 100 * round(Correct0/Y0,5),\"%\", \"(\",Correct0,\"/\",Y0,\")\")\n",
    "\n",
    "# print(\"Accuracy for Class 1: \", 100 * round(Correct1/Y1,5), \"%\", \"(\",Correct1,\"/\",Y1,\")\")\n",
    "\n",
    "# print(\"Accuracy for Class 2: \", 100 * round(Correct2/Y2,5), \"%\", \"(\",Correct2,\"/\",Y2,\")\")\n",
    "\n",
    "# print(\"Overall Accuracy: \", 100 * round(df['Correct'].sum() / len(df),5), \"%\", \"(\",df['Correct'].sum(),\"/\",len(df),\")\")"
   ]
  },
  {
   "cell_type": "code",
   "execution_count": 32,
   "metadata": {},
   "outputs": [
    {
     "name": "stdout",
     "output_type": "stream",
     "text": [
      "\n",
      "#################################################\n",
      "\n",
      "Running for Iteration: 1\n",
      "Epoch: 0, Loss: 1.1205828189849854\n",
      "Epoch: 500, Loss: 0.7692341208457947\n",
      "Epoch: 1000, Loss: 0.704883337020874\n",
      "Epoch: 1500, Loss: 0.6726397275924683\n",
      "Epoch: 2000, Loss: 0.6541407108306885\n",
      "Epoch: 2500, Loss: 0.6421822309494019\n",
      "Epoch: 3000, Loss: 0.6337755918502808\n",
      "Epoch: 3500, Loss: 0.6275062561035156\n",
      "Epoch: 4000, Loss: 0.6226249933242798\n",
      "Epoch: 4500, Loss: 0.6186982989311218\n",
      "Epoch: 5000, Loss: 0.615458607673645\n",
      "Epoch: 5500, Loss: 0.6127309203147888\n",
      "Epoch: 6000, Loss: 0.6103960275650024\n",
      "Epoch: 6500, Loss: 0.6083694696426392\n",
      "Epoch: 7000, Loss: 0.6065902709960938\n",
      "Epoch: 7500, Loss: 0.6050126552581787\n",
      "Epoch: 8000, Loss: 0.6036017537117004\n",
      "Epoch: 8500, Loss: 0.6023306250572205\n",
      "Epoch: 9000, Loss: 0.6011776328086853\n",
      "Epoch: 9500, Loss: 0.6001260280609131\n",
      "Accuracy for Class 0:  100.0 % ( 8 / 8 )\n",
      "Accuracy for Class 1:  92.857 % ( 13 / 14 )\n",
      "Accuracy for Class 2:  100.0 % ( 8 / 8 )\n",
      "Overall Accuracy:  96.667 % ( 29 / 30 )\n",
      "\n",
      "#################################################\n",
      "\n",
      "Running for Iteration: 2\n",
      "Epoch: 0, Loss: 0.5991618633270264\n",
      "Epoch: 500, Loss: 0.5982735753059387\n",
      "Epoch: 1000, Loss: 0.59745192527771\n",
      "Epoch: 1500, Loss: 0.5966889262199402\n",
      "Epoch: 2000, Loss: 0.5959780216217041\n",
      "Epoch: 2500, Loss: 0.5953136086463928\n",
      "Epoch: 3000, Loss: 0.5946906208992004\n",
      "Epoch: 3500, Loss: 0.594105064868927\n",
      "Epoch: 4000, Loss: 0.5935534238815308\n",
      "Epoch: 4500, Loss: 0.5930324196815491\n",
      "Epoch: 5000, Loss: 0.592539370059967\n",
      "Epoch: 5500, Loss: 0.5920717120170593\n",
      "Epoch: 6000, Loss: 0.5916277170181274\n",
      "Epoch: 6500, Loss: 0.591204822063446\n",
      "Epoch: 7000, Loss: 0.5908019542694092\n",
      "Epoch: 7500, Loss: 0.5904174447059631\n",
      "Epoch: 8000, Loss: 0.590049684047699\n",
      "Epoch: 8500, Loss: 0.5896977186203003\n",
      "Epoch: 9000, Loss: 0.5893603563308716\n",
      "Epoch: 9500, Loss: 0.5890365839004517\n",
      "Accuracy for Class 0:  100.0 % ( 8 / 8 )\n",
      "Accuracy for Class 1:  92.857 % ( 13 / 14 )\n",
      "Accuracy for Class 2:  100.0 % ( 8 / 8 )\n",
      "Overall Accuracy:  96.667 % ( 29 / 30 )\n",
      "\n",
      "#################################################\n",
      "\n",
      "Running for Iteration: 3\n",
      "Epoch: 0, Loss: 0.5887256264686584\n",
      "Epoch: 500, Loss: 0.588426411151886\n",
      "Epoch: 1000, Loss: 0.5881384611129761\n",
      "Epoch: 1500, Loss: 0.5878610014915466\n",
      "Epoch: 2000, Loss: 0.5875933170318604\n",
      "Epoch: 2500, Loss: 0.587334930896759\n",
      "Epoch: 3000, Loss: 0.5870853066444397\n",
      "Epoch: 3500, Loss: 0.586843729019165\n",
      "Epoch: 4000, Loss: 0.5866101980209351\n",
      "Epoch: 4500, Loss: 0.5863839983940125\n",
      "Epoch: 5000, Loss: 0.586164653301239\n",
      "Epoch: 5500, Loss: 0.5859520435333252\n",
      "Epoch: 6000, Loss: 0.585745632648468\n",
      "Epoch: 6500, Loss: 0.5855453014373779\n",
      "Epoch: 7000, Loss: 0.585350751876831\n",
      "Epoch: 7500, Loss: 0.5851613879203796\n",
      "Epoch: 8000, Loss: 0.5849773287773132\n",
      "Epoch: 8500, Loss: 0.5847981572151184\n",
      "Epoch: 9000, Loss: 0.5846237540245056\n",
      "Epoch: 9500, Loss: 0.5844539403915405\n",
      "Accuracy for Class 0:  100.0 % ( 8 / 8 )\n",
      "Accuracy for Class 1:  92.857 % ( 13 / 14 )\n",
      "Accuracy for Class 2:  100.0 % ( 8 / 8 )\n",
      "Overall Accuracy:  96.667 % ( 29 / 30 )\n"
     ]
    }
   ],
   "source": [
    "for k in range(3):\n",
    "    print(\"\\n#################################################\")\n",
    "    print(\"\\nRunning for Iteration:\",k+1)\n",
    "    ################################# Training ######################\n",
    "    epochs = 10000\n",
    "    train_loss_arr = []\n",
    "    for i in range(epochs):\n",
    "        optimizer.zero_grad()\n",
    "        y_hat = model.forward(X_train)\n",
    "        loss = criterion(y_hat, y_train)\n",
    "        train_loss_arr.append(loss)\n",
    " \n",
    "        if i % 500 == 0:\n",
    "           print(f'Epoch: {i}, Loss: {loss}')\n",
    " \n",
    "   \n",
    "        loss.backward()\n",
    "        optimizer.step()\n",
    "       \n",
    "    ################################# Testing ######################\n",
    "       \n",
    "    prediction = []\n",
    "    with torch.no_grad():\n",
    "        for val in X_test:\n",
    "            y_hat = model.forward(val)\n",
    "            prediction.append(y_hat.argmax().item())\n",
    "       \n",
    "    df = pd.DataFrame({'Y': y_test, 'YHat': prediction})\n",
    "    df['Correct'] = [1 if corr == pred else 0 for corr, pred in zip(df['Y'], df['YHat'])]\n",
    "       \n",
    "       \n",
    "   ################################## Accuracy Calculation ########\n",
    "       \n",
    "        #YHat1 = len(df[df['YHat'] ==1])\n",
    "    Correct0 = Correct1 = Correct2 = 0\n",
    "    Y0=Y1=Y2 = 0\n",
    "    for i in range(len(df)):\n",
    "        if(df['Y'][i] == 0):\n",
    "            Y0 += 1\n",
    "            Correct0 += df['Correct'][i]\n",
    "        elif(df['Y'][i] == 1):\n",
    "            Y1 += 1\n",
    "            Correct1 += df['Correct'][i]\n",
    "        else:\n",
    "            Y2 += 1\n",
    "            Correct2 += df['Correct'][i]\n",
    "    \n",
    "    print(\"Accuracy for Class 0: \", 100 * round(Correct0/Y0,5),\"%\", \"(\",Correct0,\"/\",Y0,\")\")\n",
    "       \n",
    "    print(\"Accuracy for Class 1: \", 100 * round(Correct1/Y1,5), \"%\", \"(\",Correct1,\"/\",Y1,\")\")\n",
    "      \n",
    "    print(\"Accuracy for Class 2: \", 100 * round(Correct2/Y2,5), \"%\", \"(\",Correct2,\"/\",Y2,\")\")\n",
    "    \n",
    "    print(\"Overall Accuracy: \", 100 * round(df['Correct'].sum() / len(df),5), \"%\", \"(\",df['Correct'].sum(),\"/\",len(df),\")\")\n"
   ]
  },
  {
   "cell_type": "code",
   "execution_count": null,
   "metadata": {},
   "outputs": [],
   "source": []
  }
 ],
 "metadata": {
  "kernelspec": {
   "display_name": "Python 3",
   "language": "python",
   "name": "python3"
  },
  "language_info": {
   "codemirror_mode": {
    "name": "ipython",
    "version": 3
   },
   "file_extension": ".py",
   "mimetype": "text/x-python",
   "name": "python",
   "nbconvert_exporter": "python",
   "pygments_lexer": "ipython3",
   "version": "3.8.8"
  }
 },
 "nbformat": 4,
 "nbformat_minor": 4
}
